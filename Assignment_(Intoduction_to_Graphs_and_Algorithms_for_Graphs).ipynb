{
  "nbformat": 4,
  "nbformat_minor": 0,
  "metadata": {
    "colab": {
      "provenance": []
    },
    "kernelspec": {
      "name": "python3",
      "display_name": "Python 3"
    },
    "language_info": {
      "name": "python"
    }
  },
  "cells": [
    {
      "cell_type": "markdown",
      "source": [
        "Graph Algorithms(Breadth first search, Depth first search and Shortest path using python)"
      ],
      "metadata": {
        "id": "CnrrA_DmLhGc"
      }
    },
    {
      "cell_type": "markdown",
      "source": [
        "# Breadth first search Graph Implementation"
      ],
      "metadata": {
        "id": "qsJZZlTI-q58"
      }
    },
    {
      "cell_type": "code",
      "execution_count": 8,
      "metadata": {
        "colab": {
          "base_uri": "https://localhost:8080/"
        },
        "id": "QaGi8_z3LW61",
        "outputId": "8a7ddeb9-e3cc-46a4-d640-a5d59ae939f6"
      },
      "outputs": [
        {
          "output_type": "stream",
          "name": "stdout",
          "text": [
            "Following is the Breadth-First Search\n",
            "5 3 7 2 4 8 "
          ]
        }
      ],
      "source": [
        "graph = {\n",
        "  '5' : ['3','7'],\n",
        "  '3' : ['2', '4'],\n",
        "  '7' : ['8'],\n",
        "  '2' : [],\n",
        "  '4' : ['8'],\n",
        "  '8' : []\n",
        "}\n",
        "\n",
        "visited = [] # List for visited nodes.\n",
        "queue = []     #Initialize a queue\n",
        "\n",
        "def bfs(visited, graph, node): #function for BFS\n",
        "  visited.append(node)\n",
        "  queue.append(node)\n",
        "\n",
        "  while queue:          # Creating loop to visit each node\n",
        "    m = queue.pop(0)\n",
        "    print (m, end = \" \")\n",
        "\n",
        "    for neighbour in graph[m]:\n",
        "      if neighbour not in visited:\n",
        "        visited.append(neighbour)\n",
        "        queue.append(neighbour)\n",
        "\n",
        "# Driver Code\n",
        "print(\"Following is the Breadth-First Search\")\n",
        "bfs(visited, graph, '5')    # function calling"
      ]
    },
    {
      "cell_type": "code",
      "source": [],
      "metadata": {
        "id": "4Il8WG68ELQL"
      },
      "execution_count": 5,
      "outputs": []
    },
    {
      "cell_type": "markdown",
      "source": [
        "# Depth First Search Algorithm"
      ],
      "metadata": {
        "id": "QVZLPHvpC2Cn"
      }
    },
    {
      "cell_type": "code",
      "source": [
        "graph = {\n",
        "  '5' : ['3','7'],\n",
        "  '3' : ['2', '4'],\n",
        "  '7' : ['8'],\n",
        "  '2' : [],\n",
        "  '4' : ['8'],\n",
        "  '8' : []\n",
        "}\n",
        "\n",
        "visited = set() # Set to keep track of visited nodes of graph.\n",
        "\n",
        "def dfs(visited, graph, node):  #function for dfs\n",
        "    if node not in visited:\n",
        "        print (node)\n",
        "        visited.add(node)\n",
        "        for neighbour in graph[node]:\n",
        "            dfs(visited, graph, neighbour)\n",
        "\n",
        "# Driver Code\n",
        "print(\"Following is the Depth-First Search\")\n",
        "dfs(visited, graph, '5')\n"
      ],
      "metadata": {
        "colab": {
          "base_uri": "https://localhost:8080/"
        },
        "id": "pLF9lI5QBXCr",
        "outputId": "6aec7ff2-dae5-41ff-f924-89b7384b5cd2"
      },
      "execution_count": 9,
      "outputs": [
        {
          "output_type": "stream",
          "name": "stdout",
          "text": [
            "Following is the Depth-First Search\n",
            "5\n",
            "3\n",
            "2\n",
            "4\n",
            "8\n",
            "7\n"
          ]
        }
      ]
    },
    {
      "cell_type": "markdown",
      "source": [
        "# Minimum Height Tree"
      ],
      "metadata": {
        "id": "Oc6SI3aHlyT0"
      }
    },
    {
      "cell_type": "code",
      "source": [
        "class Solution(object):\n",
        "    def findMinHeightTrees(self, n, edges):\n",
        "        \"\"\"\n",
        "        :type n: int\n",
        "        :type edges: List[List[int]]\n",
        "        :rtype: List[int]\n",
        "        \"\"\"\n",
        "        degree = {k:0 for k in range(n)}\n",
        "        graph = {k:set([]) for k in range(n)}\n",
        "        for edge in edges:\n",
        "            u,v = edge[0], edge[1]\n",
        "            degree[u], degree[v] = degree[u]+1, degree[v]+1\n",
        "            graph[u].add(v)\n",
        "            graph[v].add(u)\n",
        "        leaves = [k for k,v in degree.items() if v == 1]\n",
        "        while leaves and len(graph) > 2:\n",
        "            for leaf in leaves:\n",
        "                v = graph[leaf].pop()\n",
        "                del graph[leaf]\n",
        "                del degree[leaf]\n",
        "                degree[v] -= 1\n",
        "                graph[v].remove(leaf)\n",
        "            leaves = [k for k,v in degree.items() if v == 1]\n",
        "        return list(graph.keys())"
      ],
      "metadata": {
        "id": "njp97ivml2Hx"
      },
      "execution_count": 29,
      "outputs": []
    }
  ]
}