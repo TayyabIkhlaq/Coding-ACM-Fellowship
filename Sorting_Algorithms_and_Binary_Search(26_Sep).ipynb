{
  "nbformat": 4,
  "nbformat_minor": 0,
  "metadata": {
    "colab": {
      "provenance": []
    },
    "kernelspec": {
      "name": "python3",
      "display_name": "Python 3"
    },
    "language_info": {
      "name": "python"
    }
  },
  "cells": [
    {
      "cell_type": "markdown",
      "source": [
        "# Sorting Algorithms"
      ],
      "metadata": {
        "id": "0cLWQ0uMGChP"
      }
    },
    {
      "cell_type": "markdown",
      "source": [
        "# Bubble Sort"
      ],
      "metadata": {
        "id": "72xUY1dtGIOr"
      }
    },
    {
      "cell_type": "code",
      "execution_count": 1,
      "metadata": {
        "colab": {
          "base_uri": "https://localhost:8080/"
        },
        "id": "gU-pOvC-b7pI",
        "outputId": "31d3f394-3c6f-4146-d768-bbd621f9d942"
      },
      "outputs": [
        {
          "output_type": "stream",
          "name": "stdout",
          "text": [
            "[2, 6, 11, 19, 27, 31, 45, 121]\n"
          ]
        }
      ],
      "source": [
        "def bubblesort(list):\n",
        "\n",
        "# Swap the elements to arrange in order\n",
        "   for iter_num in range(len(list)-1,0,-1):\n",
        "      for idx in range(iter_num):\n",
        "         if list[idx]>list[idx+1]:\n",
        "            temp = list[idx]\n",
        "            list[idx] = list[idx+1]\n",
        "            list[idx+1] = temp\n",
        "list = [19,2,31,45,6,11,121,27]\n",
        "bubblesort(list)\n",
        "print(list)"
      ]
    },
    {
      "cell_type": "markdown",
      "source": [
        "# Merge Sort"
      ],
      "metadata": {
        "id": "9_uuULMHGpfM"
      }
    },
    {
      "cell_type": "code",
      "source": [
        "def merge(a1,a2):\n",
        "   c=[]\n",
        "   x=0\n",
        "   y=0\n",
        "   while(x<len(a1) and y<len(a2)):\n",
        "      if(a1[x]<a2[y]):\n",
        "         c.append(a1[x])\n",
        "         x+=1\n",
        "      else:\n",
        "         c.append(a2[y])\n",
        "         y+=1\n",
        "   while(x<len(a1)):\n",
        "      c.append(a1[x])\n",
        "      x+=1\n",
        "   while(y<len(a2)):\n",
        "      c.append(a2[y])\n",
        "      y+=1\n",
        "   return c\n",
        "\n",
        "def mergesort(array):\n",
        "   if(len(array)==1):\n",
        "      return array\n",
        "   mid=(len(array))//2\n",
        "   a1=mergesort(array[:mid])\n",
        "   a2=mergesort(array[mid:])\n",
        "   return merge(a1,a2)\n",
        "array=[2,3,1,5,4,6,8,10,7,9]\n",
        "print(mergesort(array))"
      ],
      "metadata": {
        "colab": {
          "base_uri": "https://localhost:8080/"
        },
        "id": "8U-ujxfmGthH",
        "outputId": "0a8020aa-89aa-4c11-c0e3-5a5156270e18"
      },
      "execution_count": 7,
      "outputs": [
        {
          "output_type": "stream",
          "name": "stdout",
          "text": [
            "[1, 2, 3, 4, 5, 6, 7, 8, 9, 10]\n"
          ]
        }
      ]
    },
    {
      "cell_type": "markdown",
      "source": [
        "# Insertion Sort"
      ],
      "metadata": {
        "id": "be1_UMffGzp1"
      }
    },
    {
      "cell_type": "code",
      "source": [
        "def insertion_sort(InputList):\n",
        "   for i in range(1, len(InputList)):\n",
        "      j = i-1\n",
        "      nxt_element = InputList[i]\n",
        "# Compare the current element with next one\n",
        "   while (InputList[j] > nxt_element) and (j >= 0):\n",
        "      InputList[j+1] = InputList[j]\n",
        "      j=j-1\n",
        "   InputList[j+1] = nxt_element\n",
        "list = [19,2,31,45,30,11,121,27]\n",
        "insertion_sort(list)\n",
        "print(list)"
      ],
      "metadata": {
        "colab": {
          "base_uri": "https://localhost:8080/"
        },
        "id": "fcqC4RNuG5aE",
        "outputId": "51cb1f39-c54c-4574-f158-9970fae59b0d"
      },
      "execution_count": 8,
      "outputs": [
        {
          "output_type": "stream",
          "name": "stdout",
          "text": [
            "[19, 2, 31, 45, 30, 11, 27, 121]\n"
          ]
        }
      ]
    },
    {
      "cell_type": "markdown",
      "source": [
        "# Selection Sort"
      ],
      "metadata": {
        "id": "CkV79MItG861"
      }
    },
    {
      "cell_type": "code",
      "source": [
        "def selection_sort(input_list):\n",
        "   for idx in range(len(input_list)):\n",
        "      min_idx = idx\n",
        "      for j in range( idx +1, len(input_list)):\n",
        "         if input_list[min_idx] > input_list[j]:\n",
        "            min_idx = j\n",
        "      # Swap the minimum value with the compared value\n",
        "      input_list[idx], input_list[min_idx] = input_list[min_idx], input_list[idx]\n",
        "l = [19,2,31,45,30,11,121,27]\n",
        "selection_sort(l)\n",
        "print(l)"
      ],
      "metadata": {
        "colab": {
          "base_uri": "https://localhost:8080/"
        },
        "id": "GtwN6gMhHE3R",
        "outputId": "b1d5f530-ed69-4dd3-a938-edb7ef6ff1cf"
      },
      "execution_count": 9,
      "outputs": [
        {
          "output_type": "stream",
          "name": "stdout",
          "text": [
            "[2, 11, 19, 27, 30, 31, 45, 121]\n"
          ]
        }
      ]
    },
    {
      "cell_type": "markdown",
      "source": [
        "# Quick Sort"
      ],
      "metadata": {
        "id": "CpCx25p-HHTW"
      }
    },
    {
      "cell_type": "code",
      "source": [
        "def partition(arr, low, high):\n",
        "   i = low - 1\n",
        "   pivot = arr[high]  # pivot element\n",
        "   for j in range(low, high):\n",
        "      if arr[j] <= pivot:\n",
        "         # increment\n",
        "         i = i + 1\n",
        "         arr[i], arr[j] = arr[j], arr[i]\n",
        "   arr[i + 1], arr[high] = arr[high], arr[i + 1]\n",
        "   return i + 1\n",
        "\n",
        "def quickSort(arr, low, high):\n",
        "   if low < high:\n",
        "      pi = partition(arr, low, high)\n",
        "      quickSort(arr, low, pi - 1)\n",
        "      quickSort(arr, pi + 1, high)\n",
        "\n",
        "arr = [2, 5, 3, 8, 6, 5, 4, 7]\n",
        "n = len(arr)\n",
        "quickSort(arr, 0, n - 1)\n",
        "print(\"Sorted array is:\")\n",
        "for i in range(n):\n",
        "   print(arr[i], end=\" \")"
      ],
      "metadata": {
        "colab": {
          "base_uri": "https://localhost:8080/"
        },
        "id": "B0XoeQuTHsQZ",
        "outputId": "c4baeeb1-2bf6-4d74-b7fd-d6f84dbb44bc"
      },
      "execution_count": 10,
      "outputs": [
        {
          "output_type": "stream",
          "name": "stdout",
          "text": [
            "Sorted array is:\n",
            "2 3 4 5 5 6 7 8 "
          ]
        }
      ]
    },
    {
      "cell_type": "markdown",
      "source": [
        "# Bucket Sort"
      ],
      "metadata": {
        "id": "4Lllt0XCIA0X"
      }
    },
    {
      "cell_type": "code",
      "source": [
        "def bucketsort(a):\n",
        "   b = []\n",
        "\n",
        "   for i in range(len(a)):\n",
        "      b.append([])\n",
        "\n",
        "   for j in a:\n",
        "      index_b = int(10 * j)\n",
        "      b[index_b].append(j)\n",
        "   for i in range(len(a)):\n",
        "      b[i] = sorted(b[i])\n",
        "      k = 0\n",
        "      for i in range(len(a)):\n",
        "         for j in range(len(b[i])):\n",
        "            a[k] = b[i][j]\n",
        "            k += 1\n",
        "   return a\n",
        "\n",
        "a = [.12, .45, .33, .13, .56, .44]\n",
        "print(\"The sorted Array is\")\n",
        "print(bucketsort(a))"
      ],
      "metadata": {
        "colab": {
          "base_uri": "https://localhost:8080/"
        },
        "id": "IuGS3NhWICaq",
        "outputId": "997768e3-c102-4f1f-87a7-64939df487e2"
      },
      "execution_count": 11,
      "outputs": [
        {
          "output_type": "stream",
          "name": "stdout",
          "text": [
            "The sorted Array is\n",
            "[0.12, 0.13, 0.33, 0.44, 0.45, 0.56]\n"
          ]
        }
      ]
    },
    {
      "cell_type": "markdown",
      "source": [
        "# Count Sort"
      ],
      "metadata": {
        "id": "CjBv3PPmID19"
      }
    },
    {
      "cell_type": "code",
      "source": [
        "def countsort(a, n):\n",
        "   output = [0] * len(a)\n",
        "   c = [0] * (n + 1)\n",
        "   for i in a:\n",
        "      c[i] = c[i] + 1\n",
        "\n",
        "   total = 0\n",
        "   for i in range(n + 1):\n",
        "      count = c[i]\n",
        "      c[i] = total\n",
        "      total += count\n",
        "\n",
        "   for i in a:\n",
        "      output[c[i]] = i\n",
        "      c[i] = c[i] + 1\n",
        "\n",
        "   for i in range(len(a)):\n",
        "      a[i] = output[i]\n",
        "if __name__ == '__main__':\n",
        "   a = [0, 7, 8, 2, 2, 1, 3, 7, 6]\n",
        "   n = 10\n",
        "   countsort(a, n)\n",
        "   print(a)"
      ],
      "metadata": {
        "colab": {
          "base_uri": "https://localhost:8080/"
        },
        "id": "v-xzEwjBIFrx",
        "outputId": "de5e02a0-6e1d-4db9-98af-5a4d4312f18c"
      },
      "execution_count": 12,
      "outputs": [
        {
          "output_type": "stream",
          "name": "stdout",
          "text": [
            "[0, 1, 2, 2, 3, 6, 7, 7, 8]\n"
          ]
        }
      ]
    },
    {
      "cell_type": "markdown",
      "source": [
        "# Search a 2D Matrix"
      ],
      "metadata": {
        "id": "2YcHV4LlJqly"
      }
    },
    {
      "cell_type": "code",
      "source": [
        "def searchMatrix(matrix, target):\n",
        "    if not matrix or not matrix[0]:\n",
        "        return False\n",
        "\n",
        "    rows, cols = len(matrix), len(matrix[0])\n",
        "    left, right = 0, rows * cols - 1\n",
        "\n",
        "    while left <= right:\n",
        "        mid = (left + right) // 2\n",
        "        row, col = divmod(mid, cols)\n",
        "        if matrix[row][col] == target:\n",
        "            return True\n",
        "        elif matrix[row][col] < target:\n",
        "            left = mid + 1\n",
        "        else:\n",
        "            right = mid - 1\n",
        "\n",
        "    return False\n",
        "\n",
        "# Test cases\n",
        "matrix1 = [\n",
        "    [1, 3, 5, 7],\n",
        "    [10, 11, 16, 20],\n",
        "    [23, 30, 34, 50]\n",
        "]\n",
        "\n",
        "target1 = 3\n",
        "print(searchMatrix(matrix1, target1))  # True\n",
        "\n",
        "target2 = 13\n",
        "print(searchMatrix(matrix1, target2))  # False\n",
        "\n",
        "matrix2 = [[]]  # Empty matrix\n",
        "target3 = 1\n",
        "print(searchMatrix(matrix2, target3))  # False\n",
        "\n",
        "matrix3 = [[1]]  # Single-element matrix\n",
        "target4 = 1\n",
        "print(searchMatrix(matrix3, target4))  # True\n"
      ],
      "metadata": {
        "colab": {
          "base_uri": "https://localhost:8080/"
        },
        "id": "7bKtu-FWL9_0",
        "outputId": "129852c2-40ee-45cf-c803-cc7bcde06480"
      },
      "execution_count": 15,
      "outputs": [
        {
          "output_type": "stream",
          "name": "stdout",
          "text": [
            "True\n",
            "False\n",
            "False\n",
            "True\n"
          ]
        }
      ]
    },
    {
      "cell_type": "markdown",
      "source": [
        "# Search Insert Position"
      ],
      "metadata": {
        "id": "cs0_euBnMmVu"
      }
    },
    {
      "cell_type": "code",
      "source": [
        "def searchInsert(nums, target):\n",
        "    left, right = 0, len(nums) - 1\n",
        "\n",
        "    while left <= right:\n",
        "        mid = left + (right - left) // 2\n",
        "        if nums[mid] == target:\n",
        "            return mid\n",
        "        elif nums[mid] < target:\n",
        "            left = mid + 1\n",
        "        else:\n",
        "            right = mid - 1\n",
        "\n",
        "    return left\n",
        "\n",
        "# Test cases\n",
        "nums1 = [1, 3, 5, 6]\n",
        "target1 = 5\n",
        "print(searchInsert(nums1, target1))  # Output: 2\n",
        "\n",
        "target2 = 2\n",
        "print(searchInsert(nums1, target2))  # Output: 1\n",
        "\n",
        "target3 = 7\n",
        "print(searchInsert(nums1, target3))  # Output: 4\n",
        "\n",
        "target4 = 0\n",
        "print(searchInsert(nums1, target4))  # Output: 0\n",
        "\n",
        "nums2 = [1, 3, 5, 6, 9, 11]\n",
        "target5 = 7\n",
        "print(searchInsert(nums2, target5))  # Output: 4\n"
      ],
      "metadata": {
        "colab": {
          "base_uri": "https://localhost:8080/"
        },
        "id": "kKr1vSitM3s-",
        "outputId": "dd0540d5-f4a3-424a-8ece-8c94f3c9e9ac"
      },
      "execution_count": 16,
      "outputs": [
        {
          "output_type": "stream",
          "name": "stdout",
          "text": [
            "2\n",
            "1\n",
            "4\n",
            "0\n",
            "4\n"
          ]
        }
      ]
    }
  ]
}