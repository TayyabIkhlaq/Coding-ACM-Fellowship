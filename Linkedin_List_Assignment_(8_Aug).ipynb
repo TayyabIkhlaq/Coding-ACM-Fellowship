{
  "nbformat": 4,
  "nbformat_minor": 0,
  "metadata": {
    "colab": {
      "provenance": []
    },
    "kernelspec": {
      "name": "python3",
      "display_name": "Python 3"
    },
    "language_info": {
      "name": "python"
    }
  },
  "cells": [
    {
      "cell_type": "markdown",
      "source": [
        "# Merge Two Sorted Lists"
      ],
      "metadata": {
        "id": "MR1p-B5uRI9C"
      }
    },
    {
      "cell_type": "code",
      "execution_count": 3,
      "metadata": {
        "colab": {
          "base_uri": "https://localhost:8080/"
        },
        "id": "kjL5ymTnQ04X",
        "outputId": "aa07cde6-b1db-445d-cfc1-9bf87e9c640e"
      },
      "outputs": [
        {
          "output_type": "stream",
          "name": "stdout",
          "text": [
            "Merged Linked List is:\n",
            "2 3 5 10 15 20 "
          ]
        }
      ],
      "source": [
        "class Node:\n",
        "    def __init__(self, data):\n",
        "        self.data = data\n",
        "        self.next = None\n",
        "\n",
        "class LinkedList:\n",
        "    def __init__(self):\n",
        "        self.head = None\n",
        "\n",
        "    def printList(self):\n",
        "        temp = self.head\n",
        "        while temp:\n",
        "            print(temp.data, end=\" \")\n",
        "            temp = temp.next\n",
        "\n",
        "    def addToList(self, newData):\n",
        "        newNode = Node(newData)\n",
        "        if self.head is None:\n",
        "            self.head = newNode\n",
        "            return\n",
        "\n",
        "        last = self.head\n",
        "        while last.next:\n",
        "            last = last.next\n",
        "\n",
        "        last.next = newNode\n",
        "\n",
        "def mergeLists(headA, headB):\n",
        "\n",
        "    dummyNode = Node(0)\n",
        "\n",
        "    tail = dummyNode\n",
        "    while True:\n",
        "\n",
        "        if headA is None:\n",
        "            tail.next = headB\n",
        "            break\n",
        "        if headB is None:\n",
        "            tail.next = headA\n",
        "            break\n",
        "\n",
        "        if headA.data <= headB.data:\n",
        "            tail.next = headA\n",
        "            headA = headA.next\n",
        "        else:\n",
        "            tail.next = headB\n",
        "            headB = headB.next\n",
        "\n",
        "        tail = tail.next\n",
        "\n",
        "    return dummyNode.next\n",
        "\n",
        "listA = LinkedList()\n",
        "listB = LinkedList()\n",
        "\n",
        "listA.addToList(5)\n",
        "listA.addToList(10)\n",
        "listA.addToList(15)\n",
        "\n",
        "listB.addToList(2)\n",
        "listB.addToList(3)\n",
        "listB.addToList(20)\n",
        "\n",
        "listA.head = mergeLists(listA.head, listB.head)\n",
        "\n",
        "print(\"Merged Linked List is:\")\n",
        "listA.printList()"
      ]
    },
    {
      "cell_type": "markdown",
      "source": [
        "# Remove duplicate from sorted list"
      ],
      "metadata": {
        "id": "bKOgTCElTsxX"
      }
    },
    {
      "cell_type": "code",
      "source": [
        "class Node:\n",
        "\n",
        "\tdef __init__(self, data):\n",
        "\t\tself.data = data\n",
        "\t\tself.next = None\n",
        "\n",
        "class LinkedList:\n",
        "\n",
        "\tdef __init__(self):\n",
        "\t\tself.head = None\n",
        "\n",
        "\tdef push(self, new_data):\n",
        "\t\tnew_node = Node(new_data)\n",
        "\t\tnew_node.next = self.head\n",
        "\t\tself.head = new_node\n",
        "\n",
        "\tdef deleteNode(self, key):\n",
        "\n",
        "\t\ttemp = self.head\n",
        "\n",
        "\t\tif (temp is not None):\n",
        "\t\t\tif (temp.data == key):\n",
        "\t\t\t\tself.head = temp.next\n",
        "\t\t\t\ttemp = None\n",
        "\t\t\t\treturn\n",
        "\n",
        "\t\twhile(temp is not None):\n",
        "\t\t\tif temp.data == key:\n",
        "\t\t\t\tbreak\n",
        "\t\t\tprev = temp\n",
        "\t\t\ttemp = temp.next\n",
        "\n",
        "\t\tif(temp == None):\n",
        "\t\t\treturn\n",
        "\n",
        "\t\tprev.next = temp.next\n",
        "\n",
        "\t\ttemp = None\n",
        "\n",
        "\tdef printList(self):\n",
        "\t\ttemp = self.head\n",
        "\t\twhile(temp):\n",
        "\t\t\tprint(temp.data, end=' ')\n",
        "\t\t\ttemp = temp.next\n",
        "\n",
        "\tdef removeDuplicates(self):\n",
        "\t\ttemp = self.head\n",
        "\t\tif temp is None:\n",
        "\t\t\treturn\n",
        "\t\twhile temp.next is not None:\n",
        "\t\t\tif temp.data == temp.next.data:\n",
        "\t\t\t\tnew = temp.next.next\n",
        "\t\t\t\ttemp.next = None\n",
        "\t\t\t\ttemp.next = new\n",
        "\t\t\telse:\n",
        "\t\t\t\ttemp = temp.next\n",
        "\t\treturn self.head\n",
        "\n",
        "llist = LinkedList()\n",
        "\n",
        "llist.push(20)\n",
        "llist.push(13)\n",
        "llist.push(13)\n",
        "llist.push(11)\n",
        "llist.push(11)\n",
        "llist.push(11)\n",
        "print(\"Created Linked List: \")\n",
        "llist.printList()\n",
        "print()\n",
        "print(\"Linked List after removing\",\n",
        "\t\"duplicate elements:\")\n",
        "llist.removeDuplicates()\n",
        "llist.printList()"
      ],
      "metadata": {
        "colab": {
          "base_uri": "https://localhost:8080/"
        },
        "id": "Ma7Y558CTtN6",
        "outputId": "3f5ce1da-f81a-4556-e632-950e8b058509"
      },
      "execution_count": 4,
      "outputs": [
        {
          "output_type": "stream",
          "name": "stdout",
          "text": [
            "Created Linked List: \n",
            "11 11 11 13 13 20 \n",
            "Linked List after removing duplicate elements:\n",
            "11 13 20 "
          ]
        }
      ]
    },
    {
      "cell_type": "markdown",
      "source": [
        "# Add two numbers"
      ],
      "metadata": {
        "id": "4IHwcSrrTtfH"
      }
    },
    {
      "cell_type": "code",
      "source": [
        "class ListNode:\n",
        "   def __init__(self, data, next = None):\n",
        "      self.val = data\n",
        "      self.next = next\n",
        "def make_list(elements):\n",
        "   head = ListNode(elements[0])\n",
        "   for element in elements[1:]:\n",
        "      ptr = head\n",
        "      while ptr.next:\n",
        "         ptr = ptr.next\n",
        "      ptr.next = ListNode(element)\n",
        "   return head\n",
        "def print_list(head):\n",
        "   ptr = head\n",
        "   print('[', end = \"\")\n",
        "   while ptr:\n",
        "      print(ptr.val, end = \", \")\n",
        "      ptr = ptr.next\n",
        "   print(']')\n",
        "class Solution:\n",
        "   def addTwoNumbers(self, l1: ListNode, l2: ListNode) -> ListNode:\n",
        "      head = None\n",
        "      temp = None\n",
        "      c = 0\n",
        "      while l1 or l2:\n",
        "         if not l1:\n",
        "            a= 0\n",
        "         else:\n",
        "            a = l1.val\n",
        "         if not l2:\n",
        "            b=0\n",
        "         else:\n",
        "            b = l2.val\n",
        "         n = a +b + c\n",
        "         c = 1 if n>9 else 0\n",
        "         node = ListNode(n%10)\n",
        "         if not head:\n",
        "            head = node\n",
        "            temp = node\n",
        "         else:\n",
        "            head.next = node\n",
        "            head = node\n",
        "         l1 = l1.next if l1 else None\n",
        "         l2 = l2.next if l2 else None\n",
        "      if c:\n",
        "         node = ListNode(1)\n",
        "         head.next = node\n",
        "      return temp\n",
        "ob1 = Solution()\n",
        "l1 = make_list([0,2,1])\n",
        "l2 = make_list([0,3,2])\n",
        "print_list(ob1.addTwoNumbers(l1, l2))\n"
      ],
      "metadata": {
        "colab": {
          "base_uri": "https://localhost:8080/"
        },
        "id": "86A7f_bdTtvK",
        "outputId": "ea4c20f3-5db8-4838-854a-7a1e4fb6f186"
      },
      "execution_count": 7,
      "outputs": [
        {
          "output_type": "stream",
          "name": "stdout",
          "text": [
            "[0, 5, 3, ]\n"
          ]
        }
      ]
    },
    {
      "cell_type": "markdown",
      "source": [
        "# Remove Nth Node From End of List\n"
      ],
      "metadata": {
        "id": "0GkV4yGe_3i9"
      }
    },
    {
      "cell_type": "code",
      "source": [
        "class ListNode:\n",
        "   def __init__(self, data, next = None):\n",
        "      self.val = data\n",
        "      self.next = next\n",
        "def make_list(elements):\n",
        "   head = ListNode(elements[0])\n",
        "   for element in elements[1:]:\n",
        "      ptr = head\n",
        "      while ptr.next:\n",
        "         ptr = ptr.next\n",
        "      ptr.next = ListNode(element)\n",
        "   return head\n",
        "def print_list(head):\n",
        "   ptr = head\n",
        "   print('[', end = \"\")\n",
        "   while ptr:\n",
        "      print(ptr.val, end = \", \")\n",
        "      ptr = ptr.next\n",
        "   print(']')\n",
        "class Solution(object):\n",
        "   def removeNthFromEnd(self, head, n):\n",
        "      if not head.next:\n",
        "         return None\n",
        "      front=head\n",
        "      back = head\n",
        "      counter = 0\n",
        "      flag = False\n",
        "      while counter<=n:\n",
        "         if(not front):\n",
        "            flag = True\n",
        "            break\n",
        "         front = front.next\n",
        "         counter+=1\n",
        "      while front:\n",
        "         front = front.next\n",
        "         back = back.next\n",
        "      if not flag:\n",
        "         temp = back.next\n",
        "         back.next = temp.next\n",
        "         temp.next = None\n",
        "      else:\n",
        "         head = head.next\n",
        "      return head\n",
        "head = make_list([1,2,3,4,5,6])\n",
        "ob1 = Solution()\n",
        "print_list(ob1.removeNthFromEnd(head, 3))"
      ],
      "metadata": {
        "colab": {
          "base_uri": "https://localhost:8080/"
        },
        "id": "LwWC658k_3wA",
        "outputId": "9c5e5b3d-3d12-49f2-942f-e255252f0e99"
      },
      "execution_count": 8,
      "outputs": [
        {
          "output_type": "stream",
          "name": "stdout",
          "text": [
            "[1, 2, 3, 5, 6, ]\n"
          ]
        }
      ]
    },
    {
      "cell_type": "markdown",
      "source": [
        "# Linked List Cycle Program"
      ],
      "metadata": {
        "id": "e1sZ3VLkFK9z"
      }
    },
    {
      "cell_type": "code",
      "source": [
        "class ListNode:\n",
        "   def __init__(self, data, next = None):\n",
        "      self.data = data\n",
        "      self.next = next\n",
        "def make_list(elements):\n",
        "   head = ListNode(elements[0])\n",
        "   for element in elements[1:]:\n",
        "      ptr = head\n",
        "      while ptr.next:\n",
        "         ptr = ptr.next\n",
        "      ptr.next = ListNode(element)\n",
        "   return head\n",
        "def get_node(head, pos):\n",
        "   if pos != -1:\n",
        "      p = 0\n",
        "      ptr = head\n",
        "      while p < pos:\n",
        "         ptr = ptr.next\n",
        "         p += 1\n",
        "      return ptr\n",
        "class Solution(object):\n",
        "   def hasCycle(self, head):\n",
        "      hashS = set()\n",
        "      while head:\n",
        "         if head in hashS:\n",
        "            return True\n",
        "         hashS.add(head)\n",
        "         head = head.next\n",
        "      return False\n",
        "head = make_list([5,3,2,0,-4,7])\n",
        "last_node = get_node(head, 5)\n",
        "pos = 1\n",
        "last_node.next = get_node(head, pos)\n",
        "ob1 = Solution()\n",
        "print(ob1.hasCycle(head))"
      ],
      "metadata": {
        "colab": {
          "base_uri": "https://localhost:8080/"
        },
        "id": "afrv6UJuFLJ3",
        "outputId": "70d26204-0ae1-4944-83dd-2de439c87e67"
      },
      "execution_count": 9,
      "outputs": [
        {
          "output_type": "stream",
          "name": "stdout",
          "text": [
            "True\n"
          ]
        }
      ]
    }
  ]
}