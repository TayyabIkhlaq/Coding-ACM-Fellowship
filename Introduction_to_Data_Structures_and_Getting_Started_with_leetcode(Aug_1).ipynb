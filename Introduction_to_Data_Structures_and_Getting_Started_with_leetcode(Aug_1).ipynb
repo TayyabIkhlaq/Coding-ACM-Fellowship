{
  "nbformat": 4,
  "nbformat_minor": 0,
  "metadata": {
    "colab": {
      "provenance": []
    },
    "kernelspec": {
      "name": "python3",
      "display_name": "Python 3"
    },
    "language_info": {
      "name": "python"
    }
  },
  "cells": [
    {
      "cell_type": "markdown",
      "source": [
        "# Roman To Integer"
      ],
      "metadata": {
        "id": "yEDIKf8dsWTR"
      }
    },
    {
      "cell_type": "code",
      "source": [
        "class Solution(object):\n",
        "   def romanToInt(self, s):\n",
        "      \"\"\"\n",
        "      :type s: str\n",
        "      :rtype: int\n",
        "      \"\"\"\n",
        "      roman = {'I':1,'V':5,'X':10,'L':50,'C':100,'D':500,'M':1000,'IV':4,'IX':9,'XL':40,'XC':90,'CD':400,'CM':900}\n",
        "      i = 0\n",
        "      num = 0\n",
        "      while i < len(s):\n",
        "         if i+1<len(s) and s[i:i+2] in roman:\n",
        "            num+=roman[s[i:i+2]]\n",
        "            i+=2\n",
        "         else:\n",
        "            #print(i)\n",
        "            num+=roman[s[i]]\n",
        "            i+=1\n",
        "      return num\n",
        "ob1 = Solution()\n",
        "print(ob1.romanToInt(\"III\"))\n",
        "print(ob1.romanToInt(\"CDXLIII\"))"
      ],
      "metadata": {
        "colab": {
          "base_uri": "https://localhost:8080/"
        },
        "id": "MGqBE1WQsboq",
        "outputId": "9b0d90c0-e739-4b88-985f-b5c08932ddf3"
      },
      "execution_count": 12,
      "outputs": [
        {
          "output_type": "stream",
          "name": "stdout",
          "text": [
            "3\n",
            "443\n"
          ]
        }
      ]
    },
    {
      "cell_type": "markdown",
      "source": [
        "# Longest Common Prefix"
      ],
      "metadata": {
        "id": "8Mq2pErpsehk"
      }
    },
    {
      "cell_type": "code",
      "source": [
        "class Solution(object):\n",
        "   def longestCommonPrefix(self, strs):\n",
        "      \"\"\"\n",
        "      :type strs: List[str]\n",
        "      :rtype: str\n",
        "      \"\"\"\n",
        "      if len(strs) == 0:\n",
        "         return \"\"\n",
        "      current = strs[0]\n",
        "      for i in range(1,len(strs)):\n",
        "         temp = \"\"\n",
        "         if len(current) == 0:\n",
        "            break\n",
        "         for j in range(len(strs[i])):\n",
        "            if j<len(current) and current[j] == strs[i][j]:\n",
        "               temp+=current[j]\n",
        "            else:\n",
        "               break\n",
        "         current = temp\n",
        "      return current\n",
        "input_list = [\"school\",\"schedule\",\"scotland\"]\n",
        "ob1 = Solution()\n",
        "print(ob1.longestCommonPrefix(input_list))"
      ],
      "metadata": {
        "colab": {
          "base_uri": "https://localhost:8080/"
        },
        "id": "9LR9_QUfsfCU",
        "outputId": "3990d8c4-dd5f-4cfb-ebf2-af62ff79924a"
      },
      "execution_count": 13,
      "outputs": [
        {
          "output_type": "stream",
          "name": "stdout",
          "text": [
            "sc\n"
          ]
        }
      ]
    },
    {
      "cell_type": "markdown",
      "source": [
        "# Valid Parenthesis"
      ],
      "metadata": {
        "id": "DfXXu7VIs80R"
      }
    },
    {
      "cell_type": "code",
      "source": [
        "class py_solution:\n",
        "   def is_valid_parenthese(self, str1):\n",
        "        stack, pchar = [], {\"(\": \")\", \"{\": \"}\", \"[\": \"]\"}\n",
        "        for parenthese in str1:\n",
        "            if parenthese in pchar:\n",
        "                stack.append(parenthese)\n",
        "            elif len(stack) == 0 or pchar[stack.pop()] != parenthese:\n",
        "                return False\n",
        "        return len(stack) == 0\n",
        "\n",
        "print(py_solution().is_valid_parenthese(\"(){}[]\"))\n",
        "print(py_solution().is_valid_parenthese(\"()[{)}\"))\n",
        "print(py_solution().is_valid_parenthese(\"()\"))"
      ],
      "metadata": {
        "colab": {
          "base_uri": "https://localhost:8080/"
        },
        "id": "oLa6Nij1tuUh",
        "outputId": "16643fd2-e67f-46a0-b38d-d9f63690d99e"
      },
      "execution_count": 14,
      "outputs": [
        {
          "output_type": "stream",
          "name": "stdout",
          "text": [
            "True\n",
            "False\n",
            "True\n"
          ]
        }
      ]
    },
    {
      "cell_type": "markdown",
      "source": [
        "# Length of Last Word\n",
        "\n"
      ],
      "metadata": {
        "id": "zOFyi6PGtwWb"
      }
    },
    {
      "cell_type": "code",
      "source": [
        "def lengthOfLastWord(a):\n",
        "    l = 0\n",
        "\n",
        "    x = a.strip()\n",
        "\n",
        "    for i in range(len(x)):\n",
        "        if x[i] == \" \":\n",
        "            l = 0\n",
        "        else:\n",
        "            l += 1\n",
        "    return l\n",
        "\n",
        "if __name__ == \"__main__\":\n",
        "    inp = \"Geeks For Geeks \"\n",
        "    print(\"The length of last word is\",\n",
        "          lengthOfLastWord(inp))\n",
        ""
      ],
      "metadata": {
        "colab": {
          "base_uri": "https://localhost:8080/"
        },
        "id": "HJvtI0ort_eA",
        "outputId": "cd150a25-3810-4ea9-879e-d810284ac8c1"
      },
      "execution_count": 15,
      "outputs": [
        {
          "output_type": "stream",
          "name": "stdout",
          "text": [
            "The length of last word is 5\n"
          ]
        }
      ]
    },
    {
      "cell_type": "markdown",
      "source": [
        "# Valid Palindrome"
      ],
      "metadata": {
        "id": "jjzKzecHuN-o"
      }
    },
    {
      "cell_type": "code",
      "source": [
        "class Solution(object):\n",
        "   def isPalindrome(self, s):\n",
        "      \"\"\"\n",
        "      :type s: str\n",
        "      :rtype: bool\n",
        "      \"\"\"\n",
        "      x = \"\"\n",
        "      diff = ord('a') - ord('A')\n",
        "      for i in s:\n",
        "         if ord(i)>=ord('a') and ord(i)<=ord('z') or ord(i)>=ord(\"0\") and ord(i)<=ord(\"9\"):\n",
        "            x+=i\n",
        "         elif ord(i)>=ord('A') and ord(i)<=ord('Z'):\n",
        "            i = chr(diff+ord(i))\n",
        "            x+=i\n",
        "      #print(s)\n",
        "      #print(x)\n",
        "      return x == x[::-1]\n",
        "ob1 = Solution()\n",
        "print(ob1.isPalindrome(\"A Man, a Plan, a Canal: Panama\"))"
      ],
      "metadata": {
        "colab": {
          "base_uri": "https://localhost:8080/"
        },
        "id": "txzEohbTuOQa",
        "outputId": "c57cbaa7-3e75-4352-a25f-db8b91181cb8"
      },
      "execution_count": 16,
      "outputs": [
        {
          "output_type": "stream",
          "name": "stdout",
          "text": [
            "True\n"
          ]
        }
      ]
    },
    {
      "cell_type": "markdown",
      "source": [
        "#Container With Most Water\n"
      ],
      "metadata": {
        "id": "RPjLQn-XnUSN"
      }
    },
    {
      "cell_type": "code",
      "execution_count": null,
      "metadata": {
        "id": "QCXsH7mSmDUw",
        "colab": {
          "base_uri": "https://localhost:8080/"
        },
        "outputId": "8010c12a-5af1-48e8-8339-db00cbc444c3"
      },
      "outputs": [
        {
          "output_type": "stream",
          "name": "stdout",
          "text": [
            "49\n"
          ]
        }
      ],
      "source": [
        "class Solution:\n",
        "    def maxArea(self, height):\n",
        "        max_area, i, j = 0, 0, len(height) - 1\n",
        "        while i < j:\n",
        "            max_area = max(max_area, min(height[i], height[j]) * (j - i))\n",
        "            if height[i] < height[j]:\n",
        "                i += 1\n",
        "            else:\n",
        "                j -= 1\n",
        "        return max_area\n",
        "\n",
        "if __name__ == \"__main__\":\n",
        "    height = [1,8,6,2,5,4,8,3,7]\n",
        "    result = maxArea(height)\n",
        "    print(result)"
      ]
    },
    {
      "cell_type": "markdown",
      "source": [
        "# 3Sum Problem"
      ],
      "metadata": {
        "id": "Xsun5Fr_fcIf"
      }
    },
    {
      "cell_type": "code",
      "source": [
        "class Solution(object):\n",
        "   def threeSum(self, nums):\n",
        "      nums.sort()\n",
        "      result = []\n",
        "      for i in range(len(nums)-2):\n",
        "         if i> 0 and nums[i] == nums[i-1]:\n",
        "            continue\n",
        "         l = i+1\n",
        "         r = len(nums)-1\n",
        "         while(l<r):\n",
        "            sum = nums[i] + nums[l] + nums[r]\n",
        "            if sum<0:\n",
        "               l+=1\n",
        "            elif sum >0:\n",
        "               r-=1\n",
        "            else:\n",
        "               result.append([nums[i],nums[l],nums[r]])\n",
        "               while l<len(nums)-1 and nums[l] == nums[l + 1] : l += 1\n",
        "               while r>0 and nums[r] == nums[r - 1]: r -= 1\n",
        "               l+=1\n",
        "               r-=1\n",
        "      return result\n",
        "ob1 = Solution()\n",
        "print(ob1.threeSum([-1,0,1,2,-1,-4]))"
      ],
      "metadata": {
        "colab": {
          "base_uri": "https://localhost:8080/"
        },
        "id": "ln-lMLhR8Bc-",
        "outputId": "64f71af1-1a27-4f52-c8d7-dde3db7203d3"
      },
      "execution_count": 1,
      "outputs": [
        {
          "output_type": "stream",
          "name": "stdout",
          "text": [
            "[[-1, -1, 2], [-1, 0, 1]]\n"
          ]
        }
      ]
    },
    {
      "cell_type": "markdown",
      "source": [
        "# Remove Duplicates from Sorted Array"
      ],
      "metadata": {
        "id": "3Hfj9FH38eHq"
      }
    },
    {
      "cell_type": "code",
      "source": [
        "def removeDuplicates(arr, n):\n",
        "\n",
        "\tif n == 0 or n == 1:\n",
        "\t\treturn n\n",
        "\n",
        "\ttemp = list(range(n))\n",
        "\n",
        "\tj = 0\n",
        "\tfor i in range(0, n-1):\n",
        "\n",
        "\t\tif arr[i] != arr[i+1]:\n",
        "\t\t\ttemp[j] = arr[i]\n",
        "\t\t\tj += 1\n",
        "\n",
        "\ttemp[j] = arr[n-1]\n",
        "\tj += 1\n",
        "\n",
        "\tfor i in range(0, j):\n",
        "\t\tarr[i] = temp[i]\n",
        "\n",
        "\treturn j\n",
        "\n",
        "\n",
        "if __name__ == '__main__':\n",
        "\tarr = [1, 2, 2, 3, 4, 4, 4, 5, 5]\n",
        "\tn = len(arr)\n",
        "\n",
        "\tn = removeDuplicates(arr, n)\n",
        "\n",
        "\tfor i in range(n):\n",
        "\t\tprint(\"%d\" % (arr[i]), end=\" \")"
      ],
      "metadata": {
        "colab": {
          "base_uri": "https://localhost:8080/"
        },
        "id": "rBocIM3viUDj",
        "outputId": "a5b9748f-a6e9-4ad4-df94-19e67befbb46"
      },
      "execution_count": 2,
      "outputs": [
        {
          "output_type": "stream",
          "name": "stdout",
          "text": [
            "1 2 3 4 5 "
          ]
        }
      ]
    },
    {
      "cell_type": "markdown",
      "source": [
        "\n",
        "\n",
        "\n",
        "# Remove Elements\n",
        "\n"
      ],
      "metadata": {
        "id": "IBhrKkEnkQnA"
      }
    },
    {
      "cell_type": "code",
      "source": [
        "nums = [3,2,2,3]\n",
        "val = 3\n",
        "\n",
        "class Solution:\n",
        "    def removeElement(self, nums, val):\n",
        "        count = 0\n",
        "        for i in range(len(nums)):\n",
        "            if nums[i] != val :\n",
        "                nums[count] = nums[i]\n",
        "                count +=1\n",
        "        return count\n",
        "        print(count)"
      ],
      "metadata": {
        "id": "-OiWnq_xkRWX"
      },
      "execution_count": 10,
      "outputs": []
    },
    {
      "cell_type": "markdown",
      "source": [
        "# Next Permutation"
      ],
      "metadata": {
        "id": "9-i6aMItrf3p"
      }
    },
    {
      "cell_type": "code",
      "source": [
        "class Solution(object):\n",
        "   def nextPermutation(self, nums):\n",
        "      found = False\n",
        "      i = len(nums)-2\n",
        "      while i >=0:\n",
        "         if nums[i] < nums[i+1]:\n",
        "            found =True\n",
        "            break\n",
        "         i-=1\n",
        "      if not found:\n",
        "         nums.sort()\n",
        "      else:\n",
        "         m = self.findMaxIndex(i+1,nums,nums[i])\n",
        "         nums[i],nums[m] = nums[m],nums[i]\n",
        "         nums[i+1:] = nums[i+1:][::-1]\n",
        "      return nums\n",
        "   def findMaxIndex(self,index,a,curr):\n",
        "      ans = -1\n",
        "      index = 0\n",
        "      for i in range(index,len(a)):\n",
        "         if a[i]>curr:\n",
        "            if ans == -1:\n",
        "               ans = curr\n",
        "               index = i\n",
        "            else:\n",
        "               ans = min(ans,a[i])\n",
        "               index = i\n",
        "      return index\n",
        "ob1 = Solution()\n",
        "print(ob1.nextPermutation([1,2,5,4,3]))"
      ],
      "metadata": {
        "colab": {
          "base_uri": "https://localhost:8080/"
        },
        "id": "LJC-k6gjrzf0",
        "outputId": "9bd10be9-7cad-4d76-95e2-3cad0543360c"
      },
      "execution_count": 11,
      "outputs": [
        {
          "output_type": "stream",
          "name": "stdout",
          "text": [
            "[1, 3, 2, 4, 5]\n"
          ]
        }
      ]
    }
  ]
}