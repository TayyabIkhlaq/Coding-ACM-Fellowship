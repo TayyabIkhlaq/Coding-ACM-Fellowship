{
  "nbformat": 4,
  "nbformat_minor": 0,
  "metadata": {
    "colab": {
      "provenance": []
    },
    "kernelspec": {
      "name": "python3",
      "display_name": "Python 3"
    },
    "language_info": {
      "name": "python"
    }
  },
  "cells": [
    {
      "cell_type": "markdown",
      "source": [
        "\n",
        "\n",
        "```\n",
        "# Hash Table Implementation for Insert, Update, Search and List all elements\n",
        "```\n",
        "\n"
      ],
      "metadata": {
        "id": "UpxhNnMEmbdl"
      }
    },
    {
      "cell_type": "code",
      "source": [
        "def get_index(data_list, a_string):\n",
        "    # Variable to store the result (updated after each iteration)\n",
        "    result = 0\n",
        "\n",
        "    for a_character in a_string:\n",
        "        # Convert the character to a number (using ord)\n",
        "        a_number = ord(a_character)\n",
        "        # Update result by adding the number\n",
        "        result += a_number\n",
        "\n",
        "    # Take the remainder of the result with the size of the data list\n",
        "    list_index = result % len(data_list)\n",
        "    return list_index"
      ],
      "metadata": {
        "id": "G8KunS6Onb4J"
      },
      "execution_count": 6,
      "outputs": []
    },
    {
      "cell_type": "code",
      "execution_count": 7,
      "metadata": {
        "id": "VFzrtUG1DCFD"
      },
      "outputs": [],
      "source": [
        "MAX_HASH_TABLE_SIZE = 4096\n",
        "class BasicHashTable:\n",
        "    def __init__(self, max_size=MAX_HASH_TABLE_SIZE):\n",
        "        # 1. Create a list of size `max_size` with all values None\n",
        "        self.data_list = [None] * max_size\n",
        "\n",
        "\n",
        "    def insert(self, key, value):\n",
        "        # 1. Find the index for the key using get_index\n",
        "        idx = get_index(self.data_list, key)\n",
        "\n",
        "        # 2. Store the key-value pair at the right index\n",
        "        self.data_list[idx] = (key, value)\n",
        "\n",
        "\n",
        "    def find(self, key):\n",
        "        # 1. Find the index for the key using get_index\n",
        "        idx = get_index(self.data_list, key)\n",
        "\n",
        "        # 2. Retrieve the data stored at the index\n",
        "        kv = self.data_list[idx]\n",
        "\n",
        "        # 3. Return the value if found, else return None\n",
        "        if kv is None:\n",
        "            return None\n",
        "        else:\n",
        "            key, value = kv\n",
        "            return value\n",
        "\n",
        "\n",
        "    def update(self, key, value):\n",
        "        # 1. Find the index for the key using get_index\n",
        "        idx = get_index(self.data_list, key)\n",
        "\n",
        "        # 2. Store the new key-value pair at the right index\n",
        "        self.data_list[idx] = (key, value)\n",
        "\n",
        "\n",
        "    def list_all(self):\n",
        "        # 1. Extract the key from each key-value pair\n",
        "        return [kv[0] for kv in self.data_list if kv is not None]"
      ]
    },
    {
      "cell_type": "code",
      "source": [
        "basic_table = BasicHashTable(max_size=1024)\n",
        "len(basic_table.data_list) == 1024"
      ],
      "metadata": {
        "colab": {
          "base_uri": "https://localhost:8080/"
        },
        "id": "GutiYx1bmsFH",
        "outputId": "31df179f-c56e-4228-a597-ba48e0534ab9"
      },
      "execution_count": 8,
      "outputs": [
        {
          "output_type": "execute_result",
          "data": {
            "text/plain": [
              "True"
            ]
          },
          "metadata": {},
          "execution_count": 8
        }
      ]
    },
    {
      "cell_type": "code",
      "source": [
        "# Insert some values\n",
        "basic_table.insert('Aakash', '9999999999')\n",
        "basic_table.insert('Hemanth', '8888888888')\n",
        "\n",
        "# Find a value\n",
        "basic_table.find('Hemanth') == '8888888888'"
      ],
      "metadata": {
        "colab": {
          "base_uri": "https://localhost:8080/"
        },
        "id": "ZTabnct8mzxk",
        "outputId": "fe533903-5c72-455e-9fae-c90ca5e43757"
      },
      "execution_count": 9,
      "outputs": [
        {
          "output_type": "execute_result",
          "data": {
            "text/plain": [
              "True"
            ]
          },
          "metadata": {},
          "execution_count": 9
        }
      ]
    },
    {
      "cell_type": "code",
      "source": [
        "# Update a value\n",
        "basic_table.update('Aakash', '7777777777')\n",
        "\n",
        "# Check the updated value\n",
        "basic_table.find('Aakash') == '7777777777'"
      ],
      "metadata": {
        "colab": {
          "base_uri": "https://localhost:8080/"
        },
        "id": "mmdBjnCkoAOC",
        "outputId": "61ebfaa4-51ce-49a0-d308-b466ce99faec"
      },
      "execution_count": 11,
      "outputs": [
        {
          "output_type": "execute_result",
          "data": {
            "text/plain": [
              "True"
            ]
          },
          "metadata": {},
          "execution_count": 11
        }
      ]
    },
    {
      "cell_type": "code",
      "source": [
        "# Get the list of keys\n",
        "basic_table.list_all() == ['Aakash', 'Hemanth']"
      ],
      "metadata": {
        "colab": {
          "base_uri": "https://localhost:8080/"
        },
        "id": "3ZDSodMgoZeU",
        "outputId": "0ad9f980-477d-4f6e-e4be-a6eb61b192a4"
      },
      "execution_count": 12,
      "outputs": [
        {
          "output_type": "execute_result",
          "data": {
            "text/plain": [
              "True"
            ]
          },
          "metadata": {},
          "execution_count": 12
        }
      ]
    },
    {
      "cell_type": "markdown",
      "source": [
        "# Handling Collisions with Linear Probing\n"
      ],
      "metadata": {
        "id": "8kwVkqNzonm1"
      }
    },
    {
      "cell_type": "code",
      "source": [
        "def get_valid_index(data_list, key):\n",
        "    # Start with the index returned by get_index\n",
        "    idx = get_index(data_list, key)\n",
        "\n",
        "    while True:\n",
        "        # Get the key-value pair stored at idx\n",
        "        kv = data_list[idx]\n",
        "\n",
        "        # If it is None, return the index\n",
        "        if kv == None:\n",
        "            return idx\n",
        "\n",
        "        # If the stored key matches the given key, return the index\n",
        "        k, v = kv\n",
        "        if k == key:\n",
        "            return idx\n",
        "\n",
        "        # Move to the next index\n",
        "        idx += 1\n",
        "\n",
        "        # Go back to the start if you have reached the end of the array\n",
        "        if idx == len(data_list):\n",
        "            idx = 0"
      ],
      "metadata": {
        "id": "La4J8uCToA_H"
      },
      "execution_count": 14,
      "outputs": []
    },
    {
      "cell_type": "code",
      "source": [
        "# Create an empty hash table\n",
        "data_list2 = [None] * MAX_HASH_TABLE_SIZE\n",
        "\n",
        "# New key 'listen' should return expected index\n",
        "get_valid_index(data_list2, 'listen') == 655"
      ],
      "metadata": {
        "colab": {
          "base_uri": "https://localhost:8080/"
        },
        "id": "Mnp9qV8tpZow",
        "outputId": "b3e4749d-3268-4fb5-b1a2-785320602b3b"
      },
      "execution_count": 15,
      "outputs": [
        {
          "output_type": "execute_result",
          "data": {
            "text/plain": [
              "True"
            ]
          },
          "metadata": {},
          "execution_count": 15
        }
      ]
    },
    {
      "cell_type": "code",
      "source": [
        "# Insert a key-value pair for the key 'listen'\n",
        "data_list2[get_index(data_list2, 'listen')] = ('listen', 99)\n",
        "\n",
        "# Colliding key 'silent' should return next index\n",
        "get_valid_index(data_list2, 'silent') == 656"
      ],
      "metadata": {
        "colab": {
          "base_uri": "https://localhost:8080/"
        },
        "id": "P-3WB8UCpfeA",
        "outputId": "55f64523-0f2e-4894-e021-7b1f64decfce"
      },
      "execution_count": 16,
      "outputs": [
        {
          "output_type": "execute_result",
          "data": {
            "text/plain": [
              "True"
            ]
          },
          "metadata": {},
          "execution_count": 16
        }
      ]
    },
    {
      "cell_type": "markdown",
      "source": [
        "# Hash Table with Linear Probing\n"
      ],
      "metadata": {
        "id": "iQ_qAkTwpmvM"
      }
    },
    {
      "cell_type": "code",
      "source": [
        "class ProbingHashTable:\n",
        "    def __init__(self, max_size=MAX_HASH_TABLE_SIZE):\n",
        "        # 1. Create a list of size `max_size` with all values None\n",
        "        self.data_list = [None] * max_size\n",
        "\n",
        "\n",
        "    def insert(self, key, value):\n",
        "        # 1. Find the index for the key using get_valid_index\n",
        "        idx = get_valid_index(self.data_list, key)\n",
        "\n",
        "        # 2. Store the key-value pair at the right index\n",
        "        self.data_list[idx] = (key, value)\n",
        "\n",
        "\n",
        "    def find(self, key):\n",
        "        # 1. Find the index for the key using get_valid_index\n",
        "        idx = get_valid_index(self.data_list, key)\n",
        "\n",
        "        # 2. Retrieve the data stored at the index\n",
        "        kv = self.data_list[idx]\n",
        "\n",
        "        # 3. Return the value if found, else return None\n",
        "        return None if kv is None else kv[1]\n",
        "\n",
        "\n",
        "    def update(self, key, value):\n",
        "        # 1. Find the index for the key using get_valid_index\n",
        "        idx = get_valid_index(self.data_list, key)\n",
        "\n",
        "        # 2. Store the new key-value pair at the right index\n",
        "        self.data_list[idx] = (key, value)\n",
        "\n",
        "\n",
        "    def list_all(self):\n",
        "        # 1. Extract the key from each key-value pair\n",
        "        return [kv[0] for kv in self.data_list if kv is not None]\n"
      ],
      "metadata": {
        "id": "pvpLdbI2pn88"
      },
      "execution_count": 17,
      "outputs": []
    },
    {
      "cell_type": "code",
      "source": [
        "# Create a new hash table\n",
        "probing_table = ProbingHashTable()\n",
        "\n",
        "# Insert a value\n",
        "probing_table.insert('listen', 99)\n",
        "\n",
        "# Check the value\n",
        "probing_table.find('listen') == 99"
      ],
      "metadata": {
        "colab": {
          "base_uri": "https://localhost:8080/"
        },
        "id": "63NTtTrkpuGI",
        "outputId": "64c6615f-3cb1-4f06-9904-c5baff38e6cf"
      },
      "execution_count": 18,
      "outputs": [
        {
          "output_type": "execute_result",
          "data": {
            "text/plain": [
              "True"
            ]
          },
          "metadata": {},
          "execution_count": 18
        }
      ]
    },
    {
      "cell_type": "code",
      "source": [
        "# Insert a colliding key\n",
        "probing_table.insert('silent', 200)\n",
        "\n",
        "# Check the new and old keys\n",
        "probing_table.find('listen') == 99 and probing_table.find('silent') == 200"
      ],
      "metadata": {
        "colab": {
          "base_uri": "https://localhost:8080/"
        },
        "id": "AnXgvgoApu08",
        "outputId": "ed474a3b-cc1e-4e92-e3b8-d835150b3e67"
      },
      "execution_count": 19,
      "outputs": [
        {
          "output_type": "execute_result",
          "data": {
            "text/plain": [
              "True"
            ]
          },
          "metadata": {},
          "execution_count": 19
        }
      ]
    },
    {
      "cell_type": "code",
      "source": [
        "# Update a key\n",
        "probing_table.insert('listen', 101)\n",
        "\n",
        "# Check the value\n",
        "probing_table.find('listen') == 101"
      ],
      "metadata": {
        "colab": {
          "base_uri": "https://localhost:8080/"
        },
        "id": "0SUALJuMpyCW",
        "outputId": "e9732e51-e037-4fbb-f272-723a9e07aac8"
      },
      "execution_count": 20,
      "outputs": [
        {
          "output_type": "execute_result",
          "data": {
            "text/plain": [
              "True"
            ]
          },
          "metadata": {},
          "execution_count": 20
        }
      ]
    },
    {
      "cell_type": "code",
      "source": [
        "probing_table.list_all() == ['listen', 'silent']\n"
      ],
      "metadata": {
        "colab": {
          "base_uri": "https://localhost:8080/"
        },
        "id": "rn9zZ_lrp1H9",
        "outputId": "80a981a9-ac58-40de-e1b1-ed14f3f44ac3"
      },
      "execution_count": 21,
      "outputs": [
        {
          "output_type": "execute_result",
          "data": {
            "text/plain": [
              "True"
            ]
          },
          "metadata": {},
          "execution_count": 21
        }
      ]
    },
    {
      "cell_type": "markdown",
      "source": [
        "# Happy Number"
      ],
      "metadata": {
        "id": "yEMdZ6sczKs2"
      }
    },
    {
      "cell_type": "code",
      "source": [
        "class Solution:\n",
        "    def isHappy(self, n: int) -> bool:\n",
        "        slow, fast = n, self.sumSquareDigits(n)\n",
        "\n",
        "        while slow != fast:\n",
        "            fast = self.sumSquareDigits(fast)\n",
        "            fast = self.sumSquareDigits(fast)\n",
        "            slow = self.sumSquareDigits(slow)\n",
        "\n",
        "        return True if fast == 1 else False\n",
        "\n",
        "    def sumSquareDigits(self, n):\n",
        "        output = 0\n",
        "        while n:\n",
        "            output += (n % 10) ** 2\n",
        "            n = n // 10\n",
        "        return output"
      ],
      "metadata": {
        "id": "G0j8t-80p4OM"
      },
      "execution_count": 24,
      "outputs": []
    },
    {
      "cell_type": "markdown",
      "source": [
        "# Isomorphic String"
      ],
      "metadata": {
        "id": "gf3y4o53zQM-"
      }
    },
    {
      "cell_type": "code",
      "source": [
        "MAX_CHARS = 256\n",
        "\n",
        "# This function returns true if str1 and str2 are isomorphic\n",
        "\n",
        "\n",
        "def areIsomorphic(string1, string2):\n",
        "    m = len(string1)\n",
        "    n = len(string2)\n",
        "\n",
        "\n",
        "    if m != n:\n",
        "        return False\n",
        "\n",
        "    marked = [False] * MAX_CHARS\n",
        "\n",
        "    map = [-1] * MAX_CHARS\n",
        "\n",
        "    for i in range(n):\n",
        "\n",
        "        if map[ord(string1[i])] == -1:\n",
        "\n",
        "            if marked[ord(string2[i])] == True:\n",
        "                return False\n",
        "\n",
        "            marked[ord(string2[i])] = True\n",
        "\n",
        "            map[ord(string1[i])] = string2[i]\n",
        "\n",
        "        elif map[ord(string1[i])] != string2[i]:\n",
        "            return False\n",
        "\n",
        "    return True\n",
        "\n",
        "\n",
        "print(areIsomorphic(\"aab\", \"xxy\"))\n"
      ],
      "metadata": {
        "colab": {
          "base_uri": "https://localhost:8080/"
        },
        "id": "XwPS0HY90U9i",
        "outputId": "55c982f9-7074-4364-d52b-89a7b233db93"
      },
      "execution_count": 29,
      "outputs": [
        {
          "output_type": "stream",
          "name": "stdout",
          "text": [
            "True\n"
          ]
        }
      ]
    },
    {
      "cell_type": "markdown",
      "source": [
        "# Find All Anagrams In a String"
      ],
      "metadata": {
        "id": "DZKtb3vt2Pha"
      }
    },
    {
      "cell_type": "code",
      "source": [
        "def search(pat, txt):\n",
        "\n",
        "  n = len(txt)\n",
        "  m = len(pat);\n",
        "\n",
        "  sortedpat = pat;\n",
        "  sortedpat = list(sortedpat);\n",
        "  sortedpat.sort()\n",
        "  sortedpat = ' '.join([str(elem) for elem in sortedpat])\n",
        "\n",
        "  for i in range(0,n-m+1):\n",
        "    temp = txt[i:i+m]\n",
        "    temp = list(temp);\n",
        "    temp.sort()\n",
        "    temp = ' '.join([str(elem) for elem in temp])\n",
        "\n",
        "    if (sortedpat == temp):\n",
        "      print(\"Found at Index \",i);\n",
        "\n",
        "txt = \"BACDGABCDA\";\n",
        "pat = \"ABCD\";\n",
        "search(pat, txt);"
      ],
      "metadata": {
        "colab": {
          "base_uri": "https://localhost:8080/"
        },
        "id": "AQY4jDvG2Uu7",
        "outputId": "4f7da9a5-759a-47b1-b036-23299f1424f9"
      },
      "execution_count": 30,
      "outputs": [
        {
          "output_type": "stream",
          "name": "stdout",
          "text": [
            "Found at Index  0\n",
            "Found at Index  5\n",
            "Found at Index  6\n"
          ]
        }
      ]
    },
    {
      "cell_type": "markdown",
      "source": [],
      "metadata": {
        "id": "EiBLXBcX4pmp"
      }
    }
  ]
}