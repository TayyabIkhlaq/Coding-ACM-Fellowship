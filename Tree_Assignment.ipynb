{
  "nbformat": 4,
  "nbformat_minor": 0,
  "metadata": {
    "colab": {
      "provenance": []
    },
    "kernelspec": {
      "name": "python3",
      "display_name": "Python 3"
    },
    "language_info": {
      "name": "python"
    }
  },
  "cells": [
    {
      "cell_type": "markdown",
      "source": [
        "# Binary Search Tree"
      ],
      "metadata": {
        "id": "t4ULwPN6fPLs"
      }
    },
    {
      "cell_type": "markdown",
      "source": [
        "# *Binary* search tree operations"
      ],
      "metadata": {
        "id": "GbKHI7D0fV8x"
      }
    },
    {
      "cell_type": "markdown",
      "source": [],
      "metadata": {
        "id": "U-BCojszjZqw"
      }
    },
    {
      "cell_type": "code",
      "execution_count": 1,
      "metadata": {
        "colab": {
          "base_uri": "https://localhost:8080/"
        },
        "id": "RuX3Nm3GfJNc",
        "outputId": "20e2ca0e-2212-41b4-b3b4-bdabce6d7fba"
      },
      "outputs": [
        {
          "output_type": "stream",
          "name": "stdout",
          "text": [
            "1\n",
            "2\n",
            "5\n",
            "7\n",
            "9\n",
            "Item found 9\n",
            "Item not found\n",
            "1\n",
            "9\n"
          ]
        }
      ],
      "source": [
        "class Node:\n",
        "    def __init__(self, data):\n",
        "        self.data = data\n",
        "        self.right_child = None\n",
        "        self.left_child = None\n",
        "\n",
        "class Tree:\n",
        "    def __init__(self):\n",
        "        self.root_node = None\n",
        "\n",
        "    def insert(self, data):\n",
        "        node = Node(data)\n",
        "        if self.root_node is None:\n",
        "            self.root_node = node\n",
        "            return self.root_node\n",
        "        else:\n",
        "            current = self.root_node\n",
        "            parent = None\n",
        "            while True:\n",
        "                parent = current\n",
        "                if node.data < parent.data:\n",
        "                    current = current.left_child\n",
        "                    if current is None:\n",
        "                        parent.left_child = node\n",
        "                        return self.root_node\n",
        "                else:\n",
        "                    current = current.right_child\n",
        "                    if current is None:\n",
        "                        parent.right_child = node\n",
        "                        return self.root_node\n",
        "\n",
        "    def inorder(self, root_node):\n",
        "        current = root_node\n",
        "        if current is None:\n",
        "            return\n",
        "        self.inorder(current.left_child)\n",
        "        print(current.data)\n",
        "        self.inorder(current.right_child)\n",
        "\n",
        "\n",
        "    def get_node_with_parent(self, data):\n",
        "        parent = None\n",
        "        current = self.root_node\n",
        "        if current is None:\n",
        "            return (parent, None)\n",
        "        while True:\n",
        "            if current.data == data:\n",
        "                return (parent, current)\n",
        "            elif current.data > data:\n",
        "                parent = current\n",
        "                current = current.left_child\n",
        "            else:\n",
        "                parent = current\n",
        "                current = current.right_child\n",
        "        return (parent, current)\n",
        "\n",
        "\n",
        "    def remove(self, data):\n",
        "        parent, node = self.get_node_with_parent(data)\n",
        "\n",
        "        if parent is None and node is None:\n",
        "            return False\n",
        "\n",
        "        # Get children count\n",
        "        children_count = 0\n",
        "\n",
        "        if node.left_child and node.right_child:\n",
        "            children_count = 2\n",
        "        elif (node.left_child is None) and (node.right_child is None):\n",
        "            children_count = 0\n",
        "        else:\n",
        "            children_count = 1\n",
        "\n",
        "        if children_count == 0:\n",
        "            if parent:\n",
        "                if parent.right_child is node:\n",
        "                    parent.right_child = None\n",
        "                else:\n",
        "                    parent.left_child = None\n",
        "            else:\n",
        "                self.root_node = None\n",
        "        elif children_count == 1:\n",
        "            next_node = None\n",
        "            if node.left_child:\n",
        "                next_node = node.left_child\n",
        "            else:\n",
        "                next_node = node.right_child\n",
        "\n",
        "            if parent:\n",
        "                if parent.left_child is node:\n",
        "                    parent.left_child = next_node\n",
        "                else:\n",
        "                    parent.right_child = next_node\n",
        "            else:\n",
        "                self.root_node = next_node\n",
        "        else:\n",
        "            parent_of_leftmost_node = node\n",
        "            leftmost_node = node.right_child\n",
        "            while leftmost_node.left_child:\n",
        "                parent_of_leftmost_node = leftmost_node\n",
        "                leftmost_node = leftmost_node.left_child\n",
        "            node.data = leftmost_node.data\n",
        "\n",
        "            if parent_of_leftmost_node.left_child == leftmost_node:\n",
        "                parent_of_leftmost_node.left_child = leftmost_node.right_child\n",
        "            else:\n",
        "                parent_of_leftmost_node.right_child = leftmost_node.right_child\n",
        "\n",
        "\n",
        "\n",
        "    def search(self, data):\n",
        "        current = self.root_node\n",
        "        while True:\n",
        "            if current is None:\n",
        "                print(\"Item not found\")\n",
        "                return None\n",
        "            elif current.data is data:\n",
        "                print(\"Item found\", data)\n",
        "                return data\n",
        "            elif current.data > data:\n",
        "                current = current.left_child\n",
        "            else:\n",
        "                current = current.right_child\n",
        "\n",
        "\n",
        "    def find_min(self):\n",
        "        current = self.root_node\n",
        "        while current.left_child:\n",
        "            current = current.left_child\n",
        "        return current.data\n",
        "\n",
        "\n",
        "    def find_max(self):\n",
        "        current = self.root_node\n",
        "        while current.right_child:\n",
        "            current = current.right_child\n",
        "        return current.data\n",
        "\n",
        "\n",
        "\n",
        "tree = Tree()\n",
        "r = tree.insert(5)\n",
        "r = tree.insert(2)\n",
        "r = tree.insert(7)\n",
        "r = tree.insert(9)\n",
        "r = tree.insert(1)\n",
        "\n",
        "tree.inorder(r)\n",
        "\n",
        "\n",
        "\n",
        "tree.search(9)\n",
        "\n",
        "\n",
        "tree.remove(9)\n",
        "tree.search(9)\n",
        "\n",
        "tree = Tree()\n",
        "tree.insert(5)\n",
        "tree.insert(2)\n",
        "tree.insert(7)\n",
        "tree.insert(9)\n",
        "tree.insert(1)\n",
        "\n",
        "print(tree.find_min())\n",
        "print(tree.find_max())"
      ]
    },
    {
      "cell_type": "markdown",
      "source": [
        "# Level Order Traversal"
      ],
      "metadata": {
        "id": "c4B9bchMjr8k"
      }
    },
    {
      "cell_type": "code",
      "source": [
        "from collections import deque\n",
        "\n",
        "class Node:\n",
        "    def __init__(self, data):\n",
        "        self.data = data\n",
        "        self.right_child = None\n",
        "        self.left_child = None\n",
        "\n",
        "\n",
        "n1 = Node(\"root node\")\n",
        "n2 = Node(\"left child node\")\n",
        "n3 = Node(\"right child node\")\n",
        "n4 = Node(\"left grandchild node\")\n",
        "\n",
        "n1.left_child = n2\n",
        "n1.right_child = n3\n",
        "n2.left_child = n4\n",
        "\n",
        "\n",
        "\n",
        "def level_order_traversal(root_node):\n",
        "    list_of_nodes = []\n",
        "    traversal_queue = deque([root_node])\n",
        "    while len(traversal_queue) > 0:\n",
        "        node = traversal_queue.popleft()\n",
        "        list_of_nodes.append(node.data)\n",
        "        if node.left_child:\n",
        "            traversal_queue.append(node.left_child)\n",
        "            if node.right_child:\n",
        "                traversal_queue.append(node.right_child)\n",
        "    return list_of_nodes\n",
        "\n",
        "\n",
        "\n",
        "print(level_order_traversal(n1))"
      ],
      "metadata": {
        "colab": {
          "base_uri": "https://localhost:8080/"
        },
        "id": "IgnOmfPnjuKp",
        "outputId": "c3000372-1191-443b-b00e-2d0fde0bcab5"
      },
      "execution_count": 2,
      "outputs": [
        {
          "output_type": "stream",
          "name": "stdout",
          "text": [
            "['root node', 'left child node', 'right child node', 'left grandchild node']\n"
          ]
        }
      ]
    },
    {
      "cell_type": "markdown",
      "source": [
        "# Tree Traversal"
      ],
      "metadata": {
        "id": "U2Mk6J-pj1qn"
      }
    },
    {
      "cell_type": "code",
      "source": [
        "class Node:\n",
        "    def __init__(self, data):\n",
        "        self.data = data\n",
        "        self.right_child = None\n",
        "        self.left_child = None\n",
        "\n",
        "\n",
        "n1 = Node(\"root node\")\n",
        "n2 = Node(\"left child node\")\n",
        "n3 = Node(\"right child node\")\n",
        "n4 = Node(\"left grandchild node\")\n",
        "n1.left_child = n2\n",
        "n1.right_child = n3\n",
        "n2.left_child = n4\n",
        "\n",
        "current = n1\n",
        "while current:\n",
        "        print(current.data)\n",
        "        current = current.left_child\n",
        "\n",
        "print(\"\\n\" )\n",
        "\n",
        "def inorder(root_node):\n",
        "        current = root_node\n",
        "        if current is None:\n",
        "            return\n",
        "        inorder(current.left_child)\n",
        "        print(current.data)\n",
        "        inorder(current.right_child)\n",
        "\n",
        "def preorder(root_node):\n",
        "        current = root_node\n",
        "        if current is None:\n",
        "            return\n",
        "        print(current.data)\n",
        "        preorder(current.left_child)\n",
        "        preorder(current.right_child)\n",
        "\n",
        "\n",
        "def postorder(root_node):\n",
        "        current = root_node\n",
        "        if current is None:\n",
        "            return\n",
        "        postorder(current.left_child)\n",
        "        postorder(current.right_child)\n",
        "        print(current.data)\n",
        "\n",
        "\n",
        "inorder(n1)\n",
        "print(\"\\n\" )\n",
        "preorder(n1)\n",
        "print(\"\\n\" )\n",
        "postorder(n1)"
      ],
      "metadata": {
        "colab": {
          "base_uri": "https://localhost:8080/"
        },
        "id": "0kgrGkMoj3nT",
        "outputId": "01d856ee-df50-4e2f-9362-7cd5edf27ff2"
      },
      "execution_count": 3,
      "outputs": [
        {
          "output_type": "stream",
          "name": "stdout",
          "text": [
            "root node\n",
            "left child node\n",
            "left grandchild node\n",
            "\n",
            "\n",
            "left grandchild node\n",
            "left child node\n",
            "root node\n",
            "right child node\n",
            "\n",
            "\n",
            "root node\n",
            "left child node\n",
            "left grandchild node\n",
            "right child node\n",
            "\n",
            "\n",
            "left grandchild node\n",
            "left child node\n",
            "right child node\n",
            "root node\n"
          ]
        }
      ]
    },
    {
      "cell_type": "markdown",
      "source": [],
      "metadata": {
        "id": "PSLUmJEykSIu"
      }
    },
    {
      "cell_type": "markdown",
      "source": [
        "# Same Tree"
      ],
      "metadata": {
        "id": "jQyOAgPOq4D9"
      }
    },
    {
      "cell_type": "code",
      "source": [
        "class TreeNode(object):\n",
        "    def __init__(self, x):\n",
        "        self.val = x\n",
        "        self.left = None\n",
        "        self.right = None\n",
        "\n",
        "class Solution(object):\n",
        "\n",
        "    def isSameTree(self, p, q):\n",
        "        if p is None and q is None:\n",
        "            return True\n",
        "\n",
        "        if p is not None and q is not None:\n",
        "            return p.val == q.val and self.isSameTree(p.left, q.left) and self.isSameTree(p.right, q.right)\n",
        "\n",
        "        return False"
      ],
      "metadata": {
        "id": "gqd0tmiVog4l"
      },
      "execution_count": 9,
      "outputs": []
    },
    {
      "cell_type": "markdown",
      "source": [
        "# Binary Tree Inorder Traversal"
      ],
      "metadata": {
        "id": "5c83QFHprMFE"
      }
    },
    {
      "cell_type": "code",
      "source": [
        "class TreeNode(object):\n",
        "    def __init__(self, x):\n",
        "        self.val = x\n",
        "        self.left = None\n",
        "        self.right = None\n",
        "\n",
        "\n",
        "class Solution(object):\n",
        "    def inorderTraversal(self, root):\n",
        "        \"\"\"\n",
        "        :type root: TreeNode\n",
        "        :rtype: List[int]\n",
        "        \"\"\"\n",
        "        result = []\n",
        "        stack = []\n",
        "        p = root\n",
        "        while p or stack:\n",
        "            # Save the nodes which have left child\n",
        "            while p:\n",
        "                stack.append(p)\n",
        "                p = p.left\n",
        "            if stack:\n",
        "                p = stack.pop()\n",
        "                # Visit the middle node\n",
        "                result.append(p.val)\n",
        "                # Visit the right subtree\n",
        "                p = p.right\n",
        "        return result\n",
        "\n",
        "\n",
        "if __name__ == \"__main__\":\n",
        "    n1 = TreeNode(1)\n",
        "    n2 = TreeNode(2)\n",
        "    n3 = TreeNode(3)\n",
        "    n1.right = n2\n",
        "    n2.left = n3\n",
        "    assert Solution().inorderTraversal(n1) == [1, 3, 2]"
      ],
      "metadata": {
        "id": "PKaaSsggrRJi"
      },
      "execution_count": 11,
      "outputs": []
    },
    {
      "cell_type": "markdown",
      "source": [
        "# Symmetric Tree"
      ],
      "metadata": {
        "id": "oQVEQ6WetFJB"
      }
    },
    {
      "cell_type": "code",
      "source": [
        "class TreeNode(object):\n",
        "    def __init__(self, x):\n",
        "        self.val = x\n",
        "        self.left = None\n",
        "        self.right = None\n",
        "\n",
        "# Iterative solution\n",
        "class Solution(object):\n",
        "\n",
        "    def isSymmetric(self, root):\n",
        "        if root is None:\n",
        "            return True\n",
        "        stack = []\n",
        "        stack.append(root.left)\n",
        "        stack.append(root.right)\n",
        "\n",
        "        while stack:\n",
        "            p, q = stack.pop(), stack.pop()\n",
        "\n",
        "            if p is None and q is None:\n",
        "                continue\n",
        "\n",
        "            if p is None or q is None or p.val != q.val:\n",
        "                return False\n",
        "\n",
        "            stack.append(p.left)\n",
        "            stack.append(q.right)\n",
        "\n",
        "            stack.append(p.right)\n",
        "            stack.append(q.left)\n",
        "\n",
        "        return True\n",
        "\n",
        "# Recursive solution\n",
        "class Solution2(object):\n",
        "\n",
        "    def isSymmetric(self, root):\n",
        "        if root is None:\n",
        "            return True\n",
        "\n",
        "        return self.isSymmetricRecu(root.left, root.right)\n",
        "\n",
        "    def isSymmetricRecu(self, left, right):\n",
        "        if left is None and right is None:\n",
        "            return True\n",
        "        if left is None or right is None or left.val != right.val:\n",
        "            return False\n",
        "        return self.isSymmetricRecu(left.left, right.right) and self.isSymmetricRecu(left.right, right.left)"
      ],
      "metadata": {
        "id": "hm9NCrxktHx6"
      },
      "execution_count": 13,
      "outputs": []
    }
  ]
}