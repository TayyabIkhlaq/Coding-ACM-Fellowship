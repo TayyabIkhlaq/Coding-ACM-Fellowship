{
  "nbformat": 4,
  "nbformat_minor": 0,
  "metadata": {
    "colab": {
      "provenance": [],
      "authorship_tag": "ABX9TyNj6wfctxj6uW4qN5eTwMP9",
      "include_colab_link": true
    },
    "kernelspec": {
      "name": "python3",
      "display_name": "Python 3"
    },
    "language_info": {
      "name": "python"
    }
  },
  "cells": [
    {
      "cell_type": "markdown",
      "metadata": {
        "id": "view-in-github",
        "colab_type": "text"
      },
      "source": [
        "<a href=\"https://colab.research.google.com/github/TayyabIkhlaq/Coding-ACM-Fellowship/blob/main/Quiz_game%2CGuess_game%2CRock_paper_scissor_Game%2CAdventure_Game_Credit(ACW).ipynb\" target=\"_parent\"><img src=\"https://colab.research.google.com/assets/colab-badge.svg\" alt=\"Open In Colab\"/></a>"
      ]
    },
    {
      "cell_type": "markdown",
      "source": [
        "Quiz Game"
      ],
      "metadata": {
        "id": "Pr1Nc1TR_ywF"
      }
    },
    {
      "cell_type": "code",
      "source": [
        "print(\"welcome to my computer quiz game!\")\n",
        "\n",
        "playing = input(\"Do you want to play? \")\n",
        "\n",
        "if playing.lower() != \"yes\":\n",
        "  print(\"you choose to not play the game\")\n",
        "  quit()\n",
        "\n",
        "print(\"Okay! Let's play :)\")\n",
        "score = 0\n",
        "\n",
        "ques1 = input(\"What does CPU stands for? \")\n",
        "if ques1.lower() == \"central processing unit\":\n",
        "  print('Correct')\n",
        "  score += 1\n",
        "else:\n",
        "  print(\"incorrect\")\n",
        "\n",
        "ques2 = input(\"What does GPU stands for? \")\n",
        "if ques2.lower() == \"graphics processing unit\":\n",
        "  print('correct')\n",
        "  score += 1\n",
        "else:\n",
        "  print(\"incorrect\")\n",
        "\n",
        "ques3 = input(\"What does RAM stands for\")\n",
        "if ques3.lower() == \"Random access memory\":\n",
        "  print(\"correct\")\n",
        "  score += 1\n",
        "else:\n",
        "  print(\"incorrect\")\n",
        "\n",
        "ques4 = input(\"What does PSU stand for? \")\n",
        "if ques4.lower() == \"power supply\":\n",
        "  print('Correct!')\n",
        "  score += 1\n",
        "else:\n",
        "  print(\"incorrect\")\n",
        "\n",
        "print(\"you got\" + str(score) + \" questions corect!\")\n",
        "print(\"you got \" + str((score / 4) * 100) + \"%.\" )"
      ],
      "metadata": {
        "id": "EUhTPrT62djL"
      },
      "execution_count": null,
      "outputs": []
    },
    {
      "cell_type": "markdown",
      "source": [
        "\n",
        "\n",
        "> Indented block\n",
        "\n",
        "> Indented block\n",
        "\n",
        "\n",
        "\n",
        "\n",
        "\n",
        "```\n",
        "# Let's play Number Guesser Game\n",
        "```\n",
        "\n"
      ],
      "metadata": {
        "id": "7wa5IAUS_sjY"
      }
    },
    {
      "cell_type": "code",
      "source": [
        "import random\n",
        "\n",
        "top_of_range = input(\"Type a number: \")\n",
        "\n",
        "if top_of_range.isdigit():\n",
        "    top_of_range = int(top_of_range)\n",
        "\n",
        "    if top_of_range <= 0:\n",
        "        print('Please type a number larger than 0 next time.')\n",
        "        quit()\n",
        "else:\n",
        "    print('Please type a number next time.')\n",
        "    quit()\n",
        "\n",
        "random_number = random.randint(0, top_of_range)\n",
        "guesses = 0\n",
        "\n",
        "while True:\n",
        "    guesses += 1\n",
        "    user_guess = input(\"Make a guess: \")\n",
        "    if user_guess.isdigit():\n",
        "        user_guess = int(user_guess)\n",
        "    else:\n",
        "        print('Please type a number next time.')\n",
        "        continue\n",
        "\n",
        "    if user_guess == random_number:\n",
        "        print(\"You got it!\")\n",
        "        break\n",
        "    elif user_guess > random_number:\n",
        "        print(\"You were above the number!\")\n",
        "    else:\n",
        "        print(\"You were below the number!\")\n",
        "\n",
        "print(\"You got it in\", guesses, \"guesses\")"
      ],
      "metadata": {
        "id": "6KKjg1-o_ksH"
      },
      "execution_count": null,
      "outputs": []
    },
    {
      "cell_type": "markdown",
      "source": [
        "# Let's play rock paper scissor game."
      ],
      "metadata": {
        "id": "bCZh4guiLikS"
      }
    },
    {
      "cell_type": "code",
      "source": [
        "import random\n",
        "\n",
        "user_wins = 0\n",
        "computer_wins = 0\n",
        "\n",
        "options = [\"rock\", \"paper\", \"scissors\"]\n",
        "\n",
        "while True:\n",
        "  user_input = input(\"Type Rock/Paper/Scissors or Q to quit: \").lower()\n",
        "  if user_input == \"q\":\n",
        "    break\n",
        "\n",
        "  if user_input not in options:\n",
        "    continue\n",
        "\n",
        "  random_number = random.randint(0,2)\n",
        "  computer_pick  = options[random_number]\n",
        "  print(\"Computer picked\", computer_pick + \".\")\n",
        "\n",
        "  if user_input == \"rock\" and computer_pick == \"scissors\":\n",
        "    print(\"you won!\")\n",
        "    user_wins += 1\n",
        "\n",
        "  elif user_input == \"paper\" and computer_pick == \"rock\":\n",
        "    print(\"You won!\")\n",
        "    user_wins += 1\n",
        "\n",
        "  elif user_input == \"scissors\" and computer_pick == \"paper\":\n",
        "    print(\"You lost!\")\n",
        "    computer_wins += 1\n",
        "\n",
        "  print(\"You won\", user_wins, \"times.\")\n",
        "  print(\"The computer won\", computer_wins, \"times.\")\n",
        "  print(\"Goodbye!\")"
      ],
      "metadata": {
        "id": "1EgVmT9vLv5D"
      },
      "execution_count": null,
      "outputs": []
    },
    {
      "cell_type": "markdown",
      "source": [
        "Let's play choose your own adventure game in python"
      ],
      "metadata": {
        "id": "Hdc1ROsfXJ5S"
      }
    },
    {
      "cell_type": "code",
      "source": [
        "name = input(\"Type your name: \")\n",
        "print(\"Welcome\", name, \"to this adventure!\")\n",
        "\n",
        "answer = input(\n",
        "    \"You are on a dirt road, it has come to an end and you can go left or right. Which way would you like to go? \").lower()\n",
        "\n",
        "if answer == \"left\":\n",
        "    answer = input(\n",
        "        \"You come to a river, you can walk around it or swim accross? Type walk to walk around and swim to swim accross: \")\n",
        "\n",
        "    if answer == \"swim\":\n",
        "        print(\"You swam acrross and were eaten by an alligator.\")\n",
        "    elif answer == \"walk\":\n",
        "        print(\"You walked for many miles, ran out of water and you lost the game.\")\n",
        "    else:\n",
        "        print('Not a valid option. You lose.')\n",
        "\n",
        "elif answer == \"right\":\n",
        "    answer = input(\n",
        "        \"You come to a bridge, it looks wobbly, do you want to cross it or head back (cross/back)? \")\n",
        "\n",
        "    if answer == \"back\":\n",
        "        print(\"You go back and lose.\")\n",
        "    elif answer == \"cross\":\n",
        "        answer = input(\n",
        "            \"You cross the bridge and meet a stranger. Do you talk to them (yes/no)? \")\n",
        "\n",
        "        if answer == \"yes\":\n",
        "            print(\"You talk to the stanger and they give you gold. You WIN!\")\n",
        "        elif answer == \"no\":\n",
        "            print(\"You ignore the stranger and they are offended and you lose.\")\n",
        "        else:\n",
        "            print('Not a valid option. You lose.')\n",
        "    else:\n",
        "        print('Not a valid option. You lose.')\n",
        "\n",
        "else:\n",
        "    print('Not a valid option. You lose.')\n",
        "\n",
        "print(\"Thank you for trying\", name)"
      ],
      "metadata": {
        "id": "XwWJnhhgXJe1"
      },
      "execution_count": null,
      "outputs": []
    },
    {
      "cell_type": "markdown",
      "source": [],
      "metadata": {
        "id": "ULNkG1L4Yb6u"
      }
    }
  ]
}