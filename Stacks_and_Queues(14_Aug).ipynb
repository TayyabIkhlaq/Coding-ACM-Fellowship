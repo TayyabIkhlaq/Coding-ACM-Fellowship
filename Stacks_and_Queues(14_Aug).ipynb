{
  "nbformat": 4,
  "nbformat_minor": 0,
  "metadata": {
    "colab": {
      "provenance": []
    },
    "kernelspec": {
      "name": "python3",
      "display_name": "Python 3"
    },
    "language_info": {
      "name": "python"
    }
  },
  "cells": [
    {
      "cell_type": "markdown",
      "source": [
        "# Stack Leetcode Problems:\n",
        "*Valid Parenthesis*"
      ],
      "metadata": {
        "id": "VwsBZzP9kVQN"
      }
    },
    {
      "cell_type": "code",
      "execution_count": 1,
      "metadata": {
        "colab": {
          "base_uri": "https://localhost:8080/"
        },
        "id": "SHVzdnKzKliW",
        "outputId": "b9e41a72-5cd8-4729-9c68-a1e5080b1b4b"
      },
      "outputs": [
        {
          "output_type": "stream",
          "name": "stdout",
          "text": [
            "{[]{()}} - Valid\n",
            "[{}{})(] - Unvalid Parenthesis\n",
            "((() - Unvalid Parenthesis\n"
          ]
        }
      ],
      "source": [
        "# Python3 code to Check for\n",
        "# balanced parentheses in an expression\n",
        "open_list = [\"[\",\"{\",\"(\"]\n",
        "close_list = [\"]\",\"}\",\")\"]\n",
        "\n",
        "# Function to check parentheses\n",
        "def check(myStr):\n",
        "\tstack = []\n",
        "\tfor i in myStr:\n",
        "\t\tif i in open_list:\n",
        "\t\t\tstack.append(i)\n",
        "\t\telif i in close_list:\n",
        "\t\t\tpos = close_list.index(i)\n",
        "\t\t\tif ((len(stack) > 0) and\n",
        "\t\t\t\t(open_list[pos] == stack[len(stack)-1])):\n",
        "\t\t\t\tstack.pop()\n",
        "\t\t\telse:\n",
        "\t\t\t\treturn \"Unvalid Parenthesis\"\n",
        "\tif len(stack) == 0:\n",
        "\t\treturn \"Valid\"\n",
        "\telse:\n",
        "\t\treturn \"Unvalid Parenthesis\"\n",
        "\n",
        "\n",
        "string = \"{[]{()}}\"\n",
        "print(string,\"-\", check(string))\n",
        "\n",
        "string = \"[{}{})(]\"\n",
        "print(string,\"-\", check(string))\n",
        "\n",
        "string = \"((()\"\n",
        "print(string,\"-\",check(string))\n"
      ]
    },
    {
      "cell_type": "markdown",
      "source": [
        "# Remove Duplicate Letters"
      ],
      "metadata": {
        "id": "YDFIQMQb3nXe"
      }
    },
    {
      "cell_type": "code",
      "source": [
        "def removeDuplicateLetters(s):\n",
        "\n",
        "\tcnt = [0] * 26\n",
        "\n",
        "\tvis = [0] * 26\n",
        "\n",
        "\tn = len(s)\n",
        "\n",
        "\tfor i in s:\n",
        "\t\tcnt[ord(i) - ord('a')] += 1\n",
        "\n",
        "\tres = []\n",
        "\n",
        "\tfor i in range(n):\n",
        "\n",
        "\t\tcnt[ord(s[i]) - ord('a')] -= 1\n",
        "\n",
        "\t\tif (not vis[ord(s[i]) - ord('a')]):\n",
        "\n",
        "\t\t\twhile (len(res) > 0 and\n",
        "\t\t\t\t\tres[-1] > s[i] and\n",
        "\t\tcnt[ord(res[-1]) - ord('a')] > 0):\n",
        "\n",
        "\t\t\t\tvis[ord(res[-1]) - ord('a')] = 0\n",
        "\n",
        "\t\t\t\tdel res[-1]\n",
        "\n",
        "\t\t\tres += s[i]\n",
        "\t\t\tvis[ord(s[i]) - ord('a')] = 1\n",
        "\n",
        "\treturn \"\".join(res)\n",
        "\n",
        "if __name__ == '__main__':\n",
        "\n",
        "\tS = \"acbc\"\n",
        "\n",
        "\tprint(removeDuplicateLetters(S))"
      ],
      "metadata": {
        "colab": {
          "base_uri": "https://localhost:8080/"
        },
        "id": "mjLPi4Bm3nqg",
        "outputId": "d3a7b00d-b576-49ab-9fa1-df3e6d915074"
      },
      "execution_count": 3,
      "outputs": [
        {
          "output_type": "stream",
          "name": "stdout",
          "text": [
            "abc\n"
          ]
        }
      ]
    },
    {
      "cell_type": "markdown",
      "source": [
        "# Simplify Path"
      ],
      "metadata": {
        "id": "ZId7ay6TCe26"
      }
    },
    {
      "cell_type": "code",
      "source": [
        "class Solution:\n",
        "   def simplifyPath(self, a):\n",
        "      st = ['/']\n",
        "      a = a.split(\"/\")\n",
        "      for i in a:\n",
        "         if i == '..':\n",
        "            if len(st) > 1:\n",
        "               st.pop()\n",
        "            else:\n",
        "               continue\n",
        "         elif i == '.':\n",
        "            continue\n",
        "         elif i != '':\n",
        "            st.append(\"/\" + str(i))\n",
        "      if len(st) == 1:\n",
        "         return \"/\"\n",
        "      return \"\".join(st[1:])\n",
        "ob1 = Solution()\n",
        "print(ob1.simplifyPath(\"/home/\"))\n",
        "print(ob1.simplifyPath(\"/../\"))\n",
        "print(ob1.simplifyPath(\"/home//user/\"))"
      ],
      "metadata": {
        "colab": {
          "base_uri": "https://localhost:8080/"
        },
        "id": "ILLql9DFCgK6",
        "outputId": "1fbc68b5-91ca-43b4-89f5-c943bb95c6d3"
      },
      "execution_count": 4,
      "outputs": [
        {
          "output_type": "stream",
          "name": "stdout",
          "text": [
            "/home\n",
            "/\n",
            "/home/user\n"
          ]
        }
      ]
    },
    {
      "cell_type": "markdown",
      "source": [
        "# QUEUE\n",
        "# Stack Using QUEUE"
      ],
      "metadata": {
        "id": "xCd97nu3ClA5"
      }
    },
    {
      "cell_type": "code",
      "source": [
        "from _collections import deque\n",
        "\n",
        "class Stack:\n",
        "\n",
        "\tdef __init__(self):\n",
        "\n",
        "\t\tself.q1 = deque()\n",
        "\t\tself.q2 = deque()\n",
        "\n",
        "\tdef push(self, x):\n",
        "\n",
        "\t\tself.q2.append(x)\n",
        "\n",
        "\t\twhile (self.q1):\n",
        "\t\t\tself.q2.append(self.q1.popleft())\n",
        "\n",
        "\t\tself.q1, self.q2 = self.q2, self.q1\n",
        "\n",
        "\tdef pop(self):\n",
        "\n",
        "\t\tif self.q1:\n",
        "\t\t\tself.q1.popleft()\n",
        "\n",
        "\tdef top(self):\n",
        "\t\tif (self.q1):\n",
        "\t\t\treturn self.q1[0]\n",
        "\t\treturn None\n",
        "\n",
        "\tdef size(self):\n",
        "\t\treturn len(self.q1)\n",
        "\n",
        "if __name__ == '__main__':\n",
        "\ts = Stack()\n",
        "\ts.push(1)\n",
        "\ts.push(2)\n",
        "\ts.push(3)\n",
        "\n",
        "\tprint(\"current size: \", s.size())\n",
        "\tprint(s.top())\n",
        "\ts.pop()\n",
        "\tprint(s.top())\n",
        "\ts.pop()\n",
        "\tprint(s.top())\n",
        "\n",
        "\tprint(\"current size: \", s.size())"
      ],
      "metadata": {
        "colab": {
          "base_uri": "https://localhost:8080/"
        },
        "id": "mVdVpVHVDPRS",
        "outputId": "f2c12f95-5754-43ba-fd8e-1f5da8c465f8"
      },
      "execution_count": 5,
      "outputs": [
        {
          "output_type": "stream",
          "name": "stdout",
          "text": [
            "current size:  3\n",
            "3\n",
            "2\n",
            "1\n",
            "current size:  1\n"
          ]
        }
      ]
    },
    {
      "cell_type": "markdown",
      "source": [
        "# QUEUE Using Stack"
      ],
      "metadata": {
        "id": "pmPCecVwDayH"
      }
    },
    {
      "cell_type": "code",
      "source": [
        "class Queue:\n",
        "\tdef __init__(self):\n",
        "\t\tself.s1 = []\n",
        "\t\tself.s2 = []\n",
        "\n",
        "\tdef enQueue(self, x):\n",
        "\n",
        "\t\twhile len(self.s1) != 0:\n",
        "\t\t\tself.s2.append(self.s1[-1])\n",
        "\t\t\tself.s1.pop()\n",
        "\n",
        "\t\tself.s1.append(x)\n",
        "\n",
        "\t\twhile len(self.s2) != 0:\n",
        "\t\t\tself.s1.append(self.s2[-1])\n",
        "\t\t\tself.s2.pop()\n",
        "\n",
        "\tdef deQueue(self):\n",
        "\n",
        "\t\tif len(self.s1) == 0:\n",
        "\t\t\treturn -1;\n",
        "\n",
        "\t\tx = self.s1[-1]\n",
        "\t\tself.s1.pop()\n",
        "\t\treturn x\n",
        "\n",
        "if __name__ == '__main__':\n",
        "\tq = Queue()\n",
        "\tq.enQueue(1)\n",
        "\tq.enQueue(2)\n",
        "\tq.enQueue(3)\n",
        "\n",
        "\tprint(q.deQueue())\n",
        "\tprint(q.deQueue())\n",
        "\tprint(q.deQueue())\n"
      ],
      "metadata": {
        "colab": {
          "base_uri": "https://localhost:8080/"
        },
        "id": "_adcGFy1DljG",
        "outputId": "b31e985a-aff6-4db8-c1e2-f5f1cf26ce8a"
      },
      "execution_count": 6,
      "outputs": [
        {
          "output_type": "stream",
          "name": "stdout",
          "text": [
            "1\n",
            "2\n",
            "3\n"
          ]
        }
      ]
    },
    {
      "cell_type": "markdown",
      "source": [
        "# Flatten Nested List Iterator"
      ],
      "metadata": {
        "id": "esWfiDB0ECFH"
      }
    },
    {
      "cell_type": "code",
      "source": [
        "class NestedIterator(object):\n",
        "   def __init__(self, nestedList):\n",
        "      self.res = []\n",
        "      self.index = 0\n",
        "      self.getVal(nestedList)\n",
        "      #print(self.res)\n",
        "   def getVal(self,NestedList):\n",
        "      for item in NestedList:\n",
        "         if isinstance(item, int):\n",
        "            self.res.append(item)\n",
        "         else:\n",
        "            self.getVal(item)\n",
        "   def next(self):\n",
        "      self.index+=1\n",
        "      return self.res[self.index-1]\n",
        "   def hasNext(self):\n",
        "      if self.index == len(self.res):\n",
        "         return False\n",
        "      return True\n",
        "ob = NestedIterator([[1,1],2,[1,1]])\n",
        "while ob.hasNext():\n",
        "   print(ob.next())"
      ],
      "metadata": {
        "colab": {
          "base_uri": "https://localhost:8080/"
        },
        "id": "2EqC7HvWEDB6",
        "outputId": "6f7be835-7262-4a19-e382-8eeaa6aa76f9"
      },
      "execution_count": 8,
      "outputs": [
        {
          "output_type": "stream",
          "name": "stdout",
          "text": [
            "1\n",
            "1\n",
            "2\n",
            "1\n",
            "1\n"
          ]
        }
      ]
    },
    {
      "cell_type": "markdown",
      "source": [
        "# First Unique Character In a String"
      ],
      "metadata": {
        "id": "8P4AajlaEPWB"
      }
    },
    {
      "cell_type": "code",
      "source": [
        "string = \"geeksforgeeks\"\n",
        "index = -1\n",
        "fnc = \"\"\n",
        "\n",
        "if len(string) == 0 :\n",
        "  print(\"EMTPY STRING\");\n",
        "\n",
        "for i in string:\n",
        "\tif string.count(i) == 1:\n",
        "\t\tfnc += i\n",
        "\t\tbreak\n",
        "\telse:\n",
        "\t\tindex += 1\n",
        "if index == len(string)-1 :\n",
        "\tprint(\"All characters are repeating \")\n",
        "else:\n",
        "\tprint(\"First non-repeating character is\", fnc)\n"
      ],
      "metadata": {
        "colab": {
          "base_uri": "https://localhost:8080/"
        },
        "id": "id5CvR99EPyz",
        "outputId": "374bdc04-da6f-46fe-92b9-eaccae519ff0"
      },
      "execution_count": 9,
      "outputs": [
        {
          "output_type": "stream",
          "name": "stdout",
          "text": [
            "First non-repeating character is f\n"
          ]
        }
      ]
    }
  ]
}